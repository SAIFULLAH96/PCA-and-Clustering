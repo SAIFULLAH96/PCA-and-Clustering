{
 "cells": [
  {
   "cell_type": "code",
   "execution_count": 131,
   "metadata": {},
   "outputs": [],
   "source": [
    "#import all the necessary libraries\n",
    "import pandas as pd\n",
    "import numpy as np\n",
    "import pandas as pd\n",
    "\n",
    "# For Visualisation\n",
    "import matplotlib.pyplot as plt\n",
    "%matplotlib inline\n",
    "import seaborn as sns\n",
    "\n",
    "# To Scale our data\n",
    "from sklearn.preprocessing import StandardScaler\n",
    "\n",
    "# To import PCA module\n",
    "from sklearn.decomposition import PCA\n",
    "from sklearn.decomposition import IncrementalPCA\n",
    "\n",
    "# For calculating the Hopkins statistic\n",
    "from sklearn.neighbors import NearestNeighbors\n",
    "from random import sample\n",
    "from numpy.random import uniform\n",
    "from math import isnan\n",
    "\n",
    "# To perform KMeans clustering \n",
    "from sklearn.cluster import KMeans\n",
    "\n",
    "# To get silhouwtte_score\n",
    "from sklearn.metrics import silhouette_score\n",
    "\n",
    "# To perform Hierarchical clustering\n",
    "from scipy.cluster.hierarchy import linkage\n",
    "from scipy.cluster.hierarchy import dendrogram\n",
    "from scipy.cluster.hierarchy import cut_tree"
   ]
  },
  {
   "cell_type": "code",
   "execution_count": 132,
   "metadata": {},
   "outputs": [
    {
     "data": {
      "text/html": [
       "<div>\n",
       "<style scoped>\n",
       "    .dataframe tbody tr th:only-of-type {\n",
       "        vertical-align: middle;\n",
       "    }\n",
       "\n",
       "    .dataframe tbody tr th {\n",
       "        vertical-align: top;\n",
       "    }\n",
       "\n",
       "    .dataframe thead th {\n",
       "        text-align: right;\n",
       "    }\n",
       "</style>\n",
       "<table border=\"1\" class=\"dataframe\">\n",
       "  <thead>\n",
       "    <tr style=\"text-align: right;\">\n",
       "      <th></th>\n",
       "      <th>country</th>\n",
       "      <th>child_mort</th>\n",
       "      <th>exports</th>\n",
       "      <th>health</th>\n",
       "      <th>imports</th>\n",
       "      <th>income</th>\n",
       "      <th>inflation</th>\n",
       "      <th>life_expec</th>\n",
       "      <th>total_fer</th>\n",
       "      <th>gdpp</th>\n",
       "    </tr>\n",
       "  </thead>\n",
       "  <tbody>\n",
       "    <tr>\n",
       "      <th>0</th>\n",
       "      <td>Afghanistan</td>\n",
       "      <td>90.2</td>\n",
       "      <td>10.0</td>\n",
       "      <td>7.58</td>\n",
       "      <td>44.9</td>\n",
       "      <td>1610</td>\n",
       "      <td>9.44</td>\n",
       "      <td>56.2</td>\n",
       "      <td>5.82</td>\n",
       "      <td>553</td>\n",
       "    </tr>\n",
       "    <tr>\n",
       "      <th>1</th>\n",
       "      <td>Albania</td>\n",
       "      <td>16.6</td>\n",
       "      <td>28.0</td>\n",
       "      <td>6.55</td>\n",
       "      <td>48.6</td>\n",
       "      <td>9930</td>\n",
       "      <td>4.49</td>\n",
       "      <td>76.3</td>\n",
       "      <td>1.65</td>\n",
       "      <td>4090</td>\n",
       "    </tr>\n",
       "    <tr>\n",
       "      <th>2</th>\n",
       "      <td>Algeria</td>\n",
       "      <td>27.3</td>\n",
       "      <td>38.4</td>\n",
       "      <td>4.17</td>\n",
       "      <td>31.4</td>\n",
       "      <td>12900</td>\n",
       "      <td>16.10</td>\n",
       "      <td>76.5</td>\n",
       "      <td>2.89</td>\n",
       "      <td>4460</td>\n",
       "    </tr>\n",
       "    <tr>\n",
       "      <th>3</th>\n",
       "      <td>Angola</td>\n",
       "      <td>119.0</td>\n",
       "      <td>62.3</td>\n",
       "      <td>2.85</td>\n",
       "      <td>42.9</td>\n",
       "      <td>5900</td>\n",
       "      <td>22.40</td>\n",
       "      <td>60.1</td>\n",
       "      <td>6.16</td>\n",
       "      <td>3530</td>\n",
       "    </tr>\n",
       "    <tr>\n",
       "      <th>4</th>\n",
       "      <td>Antigua and Barbuda</td>\n",
       "      <td>10.3</td>\n",
       "      <td>45.5</td>\n",
       "      <td>6.03</td>\n",
       "      <td>58.9</td>\n",
       "      <td>19100</td>\n",
       "      <td>1.44</td>\n",
       "      <td>76.8</td>\n",
       "      <td>2.13</td>\n",
       "      <td>12200</td>\n",
       "    </tr>\n",
       "  </tbody>\n",
       "</table>\n",
       "</div>"
      ],
      "text/plain": [
       "               country  child_mort  exports  health  imports  income  \\\n",
       "0          Afghanistan        90.2     10.0    7.58     44.9    1610   \n",
       "1              Albania        16.6     28.0    6.55     48.6    9930   \n",
       "2              Algeria        27.3     38.4    4.17     31.4   12900   \n",
       "3               Angola       119.0     62.3    2.85     42.9    5900   \n",
       "4  Antigua and Barbuda        10.3     45.5    6.03     58.9   19100   \n",
       "\n",
       "   inflation  life_expec  total_fer   gdpp  \n",
       "0       9.44        56.2       5.82    553  \n",
       "1       4.49        76.3       1.65   4090  \n",
       "2      16.10        76.5       2.89   4460  \n",
       "3      22.40        60.1       6.16   3530  \n",
       "4       1.44        76.8       2.13  12200  "
      ]
     },
     "execution_count": 132,
     "metadata": {},
     "output_type": "execute_result"
    }
   ],
   "source": [
    "# Reading the file \n",
    "country = pd.read_csv(r\"H:\\UpGrad\\Machine Learning 1\\Clustering & PCA Assignment\\country-data.csv\")\n",
    "# Displaying the first few rows of the file\n",
    "country.head()"
   ]
  },
  {
   "cell_type": "code",
   "execution_count": 133,
   "metadata": {},
   "outputs": [
    {
     "data": {
      "text/plain": [
       "(167, 10)"
      ]
     },
     "execution_count": 133,
     "metadata": {},
     "output_type": "execute_result"
    }
   ],
   "source": [
    "# Checking the number of rows and column\n",
    "country.shape"
   ]
  },
  {
   "cell_type": "code",
   "execution_count": 134,
   "metadata": {},
   "outputs": [
    {
     "name": "stdout",
     "output_type": "stream",
     "text": [
      "<class 'pandas.core.frame.DataFrame'>\n",
      "RangeIndex: 167 entries, 0 to 166\n",
      "Data columns (total 10 columns):\n",
      "country       167 non-null object\n",
      "child_mort    167 non-null float64\n",
      "exports       167 non-null float64\n",
      "health        167 non-null float64\n",
      "imports       167 non-null float64\n",
      "income        167 non-null int64\n",
      "inflation     167 non-null float64\n",
      "life_expec    167 non-null float64\n",
      "total_fer     167 non-null float64\n",
      "gdpp          167 non-null int64\n",
      "dtypes: float64(7), int64(2), object(1)\n",
      "memory usage: 13.1+ KB\n"
     ]
    }
   ],
   "source": [
    "# Checking the info about the file\n",
    "country.info()"
   ]
  },
  {
   "cell_type": "code",
   "execution_count": 135,
   "metadata": {},
   "outputs": [
    {
     "data": {
      "text/html": [
       "<div>\n",
       "<style scoped>\n",
       "    .dataframe tbody tr th:only-of-type {\n",
       "        vertical-align: middle;\n",
       "    }\n",
       "\n",
       "    .dataframe tbody tr th {\n",
       "        vertical-align: top;\n",
       "    }\n",
       "\n",
       "    .dataframe thead th {\n",
       "        text-align: right;\n",
       "    }\n",
       "</style>\n",
       "<table border=\"1\" class=\"dataframe\">\n",
       "  <thead>\n",
       "    <tr style=\"text-align: right;\">\n",
       "      <th></th>\n",
       "      <th>child_mort</th>\n",
       "      <th>exports</th>\n",
       "      <th>health</th>\n",
       "      <th>imports</th>\n",
       "      <th>income</th>\n",
       "      <th>inflation</th>\n",
       "      <th>life_expec</th>\n",
       "      <th>total_fer</th>\n",
       "      <th>gdpp</th>\n",
       "    </tr>\n",
       "  </thead>\n",
       "  <tbody>\n",
       "    <tr>\n",
       "      <th>count</th>\n",
       "      <td>167.000000</td>\n",
       "      <td>167.000000</td>\n",
       "      <td>167.000000</td>\n",
       "      <td>167.000000</td>\n",
       "      <td>167.000000</td>\n",
       "      <td>167.000000</td>\n",
       "      <td>167.000000</td>\n",
       "      <td>167.000000</td>\n",
       "      <td>167.000000</td>\n",
       "    </tr>\n",
       "    <tr>\n",
       "      <th>mean</th>\n",
       "      <td>38.270060</td>\n",
       "      <td>41.108976</td>\n",
       "      <td>6.815689</td>\n",
       "      <td>46.890215</td>\n",
       "      <td>17144.688623</td>\n",
       "      <td>7.781832</td>\n",
       "      <td>70.555689</td>\n",
       "      <td>2.947964</td>\n",
       "      <td>12964.155689</td>\n",
       "    </tr>\n",
       "    <tr>\n",
       "      <th>std</th>\n",
       "      <td>40.328931</td>\n",
       "      <td>27.412010</td>\n",
       "      <td>2.746837</td>\n",
       "      <td>24.209589</td>\n",
       "      <td>19278.067698</td>\n",
       "      <td>10.570704</td>\n",
       "      <td>8.893172</td>\n",
       "      <td>1.513848</td>\n",
       "      <td>18328.704809</td>\n",
       "    </tr>\n",
       "    <tr>\n",
       "      <th>min</th>\n",
       "      <td>2.600000</td>\n",
       "      <td>0.109000</td>\n",
       "      <td>1.810000</td>\n",
       "      <td>0.065900</td>\n",
       "      <td>609.000000</td>\n",
       "      <td>-4.210000</td>\n",
       "      <td>32.100000</td>\n",
       "      <td>1.150000</td>\n",
       "      <td>231.000000</td>\n",
       "    </tr>\n",
       "    <tr>\n",
       "      <th>25%</th>\n",
       "      <td>8.250000</td>\n",
       "      <td>23.800000</td>\n",
       "      <td>4.920000</td>\n",
       "      <td>30.200000</td>\n",
       "      <td>3355.000000</td>\n",
       "      <td>1.810000</td>\n",
       "      <td>65.300000</td>\n",
       "      <td>1.795000</td>\n",
       "      <td>1330.000000</td>\n",
       "    </tr>\n",
       "    <tr>\n",
       "      <th>50%</th>\n",
       "      <td>19.300000</td>\n",
       "      <td>35.000000</td>\n",
       "      <td>6.320000</td>\n",
       "      <td>43.300000</td>\n",
       "      <td>9960.000000</td>\n",
       "      <td>5.390000</td>\n",
       "      <td>73.100000</td>\n",
       "      <td>2.410000</td>\n",
       "      <td>4660.000000</td>\n",
       "    </tr>\n",
       "    <tr>\n",
       "      <th>75%</th>\n",
       "      <td>62.100000</td>\n",
       "      <td>51.350000</td>\n",
       "      <td>8.600000</td>\n",
       "      <td>58.750000</td>\n",
       "      <td>22800.000000</td>\n",
       "      <td>10.750000</td>\n",
       "      <td>76.800000</td>\n",
       "      <td>3.880000</td>\n",
       "      <td>14050.000000</td>\n",
       "    </tr>\n",
       "    <tr>\n",
       "      <th>max</th>\n",
       "      <td>208.000000</td>\n",
       "      <td>200.000000</td>\n",
       "      <td>17.900000</td>\n",
       "      <td>174.000000</td>\n",
       "      <td>125000.000000</td>\n",
       "      <td>104.000000</td>\n",
       "      <td>82.800000</td>\n",
       "      <td>7.490000</td>\n",
       "      <td>105000.000000</td>\n",
       "    </tr>\n",
       "  </tbody>\n",
       "</table>\n",
       "</div>"
      ],
      "text/plain": [
       "       child_mort     exports      health     imports         income  \\\n",
       "count  167.000000  167.000000  167.000000  167.000000     167.000000   \n",
       "mean    38.270060   41.108976    6.815689   46.890215   17144.688623   \n",
       "std     40.328931   27.412010    2.746837   24.209589   19278.067698   \n",
       "min      2.600000    0.109000    1.810000    0.065900     609.000000   \n",
       "25%      8.250000   23.800000    4.920000   30.200000    3355.000000   \n",
       "50%     19.300000   35.000000    6.320000   43.300000    9960.000000   \n",
       "75%     62.100000   51.350000    8.600000   58.750000   22800.000000   \n",
       "max    208.000000  200.000000   17.900000  174.000000  125000.000000   \n",
       "\n",
       "        inflation  life_expec   total_fer           gdpp  \n",
       "count  167.000000  167.000000  167.000000     167.000000  \n",
       "mean     7.781832   70.555689    2.947964   12964.155689  \n",
       "std     10.570704    8.893172    1.513848   18328.704809  \n",
       "min     -4.210000   32.100000    1.150000     231.000000  \n",
       "25%      1.810000   65.300000    1.795000    1330.000000  \n",
       "50%      5.390000   73.100000    2.410000    4660.000000  \n",
       "75%     10.750000   76.800000    3.880000   14050.000000  \n",
       "max    104.000000   82.800000    7.490000  105000.000000  "
      ]
     },
     "execution_count": 135,
     "metadata": {},
     "output_type": "execute_result"
    }
   ],
   "source": [
    "# Descibing the file\n",
    "country.describe()"
   ]
  },
  {
   "cell_type": "code",
   "execution_count": 136,
   "metadata": {},
   "outputs": [
    {
     "data": {
      "text/plain": [
       "country       0\n",
       "child_mort    0\n",
       "exports       0\n",
       "health        0\n",
       "imports       0\n",
       "income        0\n",
       "inflation     0\n",
       "life_expec    0\n",
       "total_fer     0\n",
       "gdpp          0\n",
       "dtype: int64"
      ]
     },
     "execution_count": 136,
     "metadata": {},
     "output_type": "execute_result"
    }
   ],
   "source": [
    "# Checking for the null values in the file\n",
    "country.isnull().sum()"
   ]
  },
  {
   "cell_type": "markdown",
   "metadata": {},
   "source": [
    "- So there is no null values in the file"
   ]
  },
  {
   "cell_type": "code",
   "execution_count": 137,
   "metadata": {},
   "outputs": [
    {
     "data": {
      "text/html": [
       "<div>\n",
       "<style scoped>\n",
       "    .dataframe tbody tr th:only-of-type {\n",
       "        vertical-align: middle;\n",
       "    }\n",
       "\n",
       "    .dataframe tbody tr th {\n",
       "        vertical-align: top;\n",
       "    }\n",
       "\n",
       "    .dataframe thead th {\n",
       "        text-align: right;\n",
       "    }\n",
       "</style>\n",
       "<table border=\"1\" class=\"dataframe\">\n",
       "  <thead>\n",
       "    <tr style=\"text-align: right;\">\n",
       "      <th></th>\n",
       "      <th>country</th>\n",
       "      <th>child_mort</th>\n",
       "      <th>exports</th>\n",
       "      <th>health</th>\n",
       "      <th>imports</th>\n",
       "      <th>income</th>\n",
       "      <th>inflation</th>\n",
       "      <th>life_expec</th>\n",
       "      <th>total_fer</th>\n",
       "      <th>gdpp</th>\n",
       "    </tr>\n",
       "  </thead>\n",
       "  <tbody>\n",
       "  </tbody>\n",
       "</table>\n",
       "</div>"
      ],
      "text/plain": [
       "Empty DataFrame\n",
       "Columns: [country, child_mort, exports, health, imports, income, inflation, life_expec, total_fer, gdpp]\n",
       "Index: []"
      ]
     },
     "execution_count": 137,
     "metadata": {},
     "output_type": "execute_result"
    }
   ],
   "source": [
    "#Checking for the duplicate rows:\n",
    "country[country['country'].duplicated()==True]"
   ]
  },
  {
   "cell_type": "markdown",
   "metadata": {},
   "source": [
    "- There are no duplicate rows in the dataframe"
   ]
  },
  {
   "cell_type": "code",
   "execution_count": 138,
   "metadata": {},
   "outputs": [
    {
     "data": {
      "text/html": [
       "<div>\n",
       "<style scoped>\n",
       "    .dataframe tbody tr th:only-of-type {\n",
       "        vertical-align: middle;\n",
       "    }\n",
       "\n",
       "    .dataframe tbody tr th {\n",
       "        vertical-align: top;\n",
       "    }\n",
       "\n",
       "    .dataframe thead th {\n",
       "        text-align: right;\n",
       "    }\n",
       "</style>\n",
       "<table border=\"1\" class=\"dataframe\">\n",
       "  <thead>\n",
       "    <tr style=\"text-align: right;\">\n",
       "      <th></th>\n",
       "      <th>country</th>\n",
       "      <th>child_mort</th>\n",
       "      <th>exports</th>\n",
       "      <th>health</th>\n",
       "      <th>imports</th>\n",
       "      <th>income</th>\n",
       "      <th>inflation</th>\n",
       "      <th>life_expec</th>\n",
       "      <th>total_fer</th>\n",
       "      <th>gdpp</th>\n",
       "    </tr>\n",
       "  </thead>\n",
       "  <tbody>\n",
       "    <tr>\n",
       "      <th>0</th>\n",
       "      <td>Afghanistan</td>\n",
       "      <td>90.2</td>\n",
       "      <td>55.30</td>\n",
       "      <td>41.9174</td>\n",
       "      <td>248.297</td>\n",
       "      <td>1610</td>\n",
       "      <td>9.44</td>\n",
       "      <td>56.2</td>\n",
       "      <td>5.82</td>\n",
       "      <td>553</td>\n",
       "    </tr>\n",
       "    <tr>\n",
       "      <th>1</th>\n",
       "      <td>Albania</td>\n",
       "      <td>16.6</td>\n",
       "      <td>1145.20</td>\n",
       "      <td>267.8950</td>\n",
       "      <td>1987.740</td>\n",
       "      <td>9930</td>\n",
       "      <td>4.49</td>\n",
       "      <td>76.3</td>\n",
       "      <td>1.65</td>\n",
       "      <td>4090</td>\n",
       "    </tr>\n",
       "    <tr>\n",
       "      <th>2</th>\n",
       "      <td>Algeria</td>\n",
       "      <td>27.3</td>\n",
       "      <td>1712.64</td>\n",
       "      <td>185.9820</td>\n",
       "      <td>1400.440</td>\n",
       "      <td>12900</td>\n",
       "      <td>16.10</td>\n",
       "      <td>76.5</td>\n",
       "      <td>2.89</td>\n",
       "      <td>4460</td>\n",
       "    </tr>\n",
       "    <tr>\n",
       "      <th>3</th>\n",
       "      <td>Angola</td>\n",
       "      <td>119.0</td>\n",
       "      <td>2199.19</td>\n",
       "      <td>100.6050</td>\n",
       "      <td>1514.370</td>\n",
       "      <td>5900</td>\n",
       "      <td>22.40</td>\n",
       "      <td>60.1</td>\n",
       "      <td>6.16</td>\n",
       "      <td>3530</td>\n",
       "    </tr>\n",
       "    <tr>\n",
       "      <th>4</th>\n",
       "      <td>Antigua and Barbuda</td>\n",
       "      <td>10.3</td>\n",
       "      <td>5551.00</td>\n",
       "      <td>735.6600</td>\n",
       "      <td>7185.800</td>\n",
       "      <td>19100</td>\n",
       "      <td>1.44</td>\n",
       "      <td>76.8</td>\n",
       "      <td>2.13</td>\n",
       "      <td>12200</td>\n",
       "    </tr>\n",
       "  </tbody>\n",
       "</table>\n",
       "</div>"
      ],
      "text/plain": [
       "               country  child_mort  exports    health   imports  income  \\\n",
       "0          Afghanistan        90.2    55.30   41.9174   248.297    1610   \n",
       "1              Albania        16.6  1145.20  267.8950  1987.740    9930   \n",
       "2              Algeria        27.3  1712.64  185.9820  1400.440   12900   \n",
       "3               Angola       119.0  2199.19  100.6050  1514.370    5900   \n",
       "4  Antigua and Barbuda        10.3  5551.00  735.6600  7185.800   19100   \n",
       "\n",
       "   inflation  life_expec  total_fer   gdpp  \n",
       "0       9.44        56.2       5.82    553  \n",
       "1       4.49        76.3       1.65   4090  \n",
       "2      16.10        76.5       2.89   4460  \n",
       "3      22.40        60.1       6.16   3530  \n",
       "4       1.44        76.8       2.13  12200  "
      ]
     },
     "execution_count": 138,
     "metadata": {},
     "output_type": "execute_result"
    }
   ],
   "source": [
    "country['exports'] = country['exports']*country['gdpp']/100\n",
    "country['imports'] = country['imports']*country['gdpp']/100\n",
    "country['health'] = country['health']*country['gdpp']/100\n",
    "country.head()"
   ]
  },
  {
   "cell_type": "code",
   "execution_count": 139,
   "metadata": {},
   "outputs": [
    {
     "data": {
      "text/plain": [
       "0            Afghanistan\n",
       "1                Albania\n",
       "2                Algeria\n",
       "3                 Angola\n",
       "4    Antigua and Barbuda\n",
       "Name: country, dtype: object"
      ]
     },
     "execution_count": 139,
     "metadata": {},
     "output_type": "execute_result"
    }
   ],
   "source": [
    "# separating the country column from the data frame\n",
    "df1 = country['country']\n",
    "df1.head()"
   ]
  },
  {
   "cell_type": "code",
   "execution_count": 140,
   "metadata": {},
   "outputs": [
    {
     "data": {
      "text/html": [
       "<div>\n",
       "<style scoped>\n",
       "    .dataframe tbody tr th:only-of-type {\n",
       "        vertical-align: middle;\n",
       "    }\n",
       "\n",
       "    .dataframe tbody tr th {\n",
       "        vertical-align: top;\n",
       "    }\n",
       "\n",
       "    .dataframe thead th {\n",
       "        text-align: right;\n",
       "    }\n",
       "</style>\n",
       "<table border=\"1\" class=\"dataframe\">\n",
       "  <thead>\n",
       "    <tr style=\"text-align: right;\">\n",
       "      <th></th>\n",
       "      <th>child_mort</th>\n",
       "      <th>exports</th>\n",
       "      <th>health</th>\n",
       "      <th>imports</th>\n",
       "      <th>income</th>\n",
       "      <th>inflation</th>\n",
       "      <th>life_expec</th>\n",
       "      <th>total_fer</th>\n",
       "      <th>gdpp</th>\n",
       "    </tr>\n",
       "  </thead>\n",
       "  <tbody>\n",
       "    <tr>\n",
       "      <th>0</th>\n",
       "      <td>90.2</td>\n",
       "      <td>55.30</td>\n",
       "      <td>41.9174</td>\n",
       "      <td>248.297</td>\n",
       "      <td>1610</td>\n",
       "      <td>9.44</td>\n",
       "      <td>56.2</td>\n",
       "      <td>5.82</td>\n",
       "      <td>553</td>\n",
       "    </tr>\n",
       "    <tr>\n",
       "      <th>1</th>\n",
       "      <td>16.6</td>\n",
       "      <td>1145.20</td>\n",
       "      <td>267.8950</td>\n",
       "      <td>1987.740</td>\n",
       "      <td>9930</td>\n",
       "      <td>4.49</td>\n",
       "      <td>76.3</td>\n",
       "      <td>1.65</td>\n",
       "      <td>4090</td>\n",
       "    </tr>\n",
       "    <tr>\n",
       "      <th>2</th>\n",
       "      <td>27.3</td>\n",
       "      <td>1712.64</td>\n",
       "      <td>185.9820</td>\n",
       "      <td>1400.440</td>\n",
       "      <td>12900</td>\n",
       "      <td>16.10</td>\n",
       "      <td>76.5</td>\n",
       "      <td>2.89</td>\n",
       "      <td>4460</td>\n",
       "    </tr>\n",
       "    <tr>\n",
       "      <th>3</th>\n",
       "      <td>119.0</td>\n",
       "      <td>2199.19</td>\n",
       "      <td>100.6050</td>\n",
       "      <td>1514.370</td>\n",
       "      <td>5900</td>\n",
       "      <td>22.40</td>\n",
       "      <td>60.1</td>\n",
       "      <td>6.16</td>\n",
       "      <td>3530</td>\n",
       "    </tr>\n",
       "    <tr>\n",
       "      <th>4</th>\n",
       "      <td>10.3</td>\n",
       "      <td>5551.00</td>\n",
       "      <td>735.6600</td>\n",
       "      <td>7185.800</td>\n",
       "      <td>19100</td>\n",
       "      <td>1.44</td>\n",
       "      <td>76.8</td>\n",
       "      <td>2.13</td>\n",
       "      <td>12200</td>\n",
       "    </tr>\n",
       "  </tbody>\n",
       "</table>\n",
       "</div>"
      ],
      "text/plain": [
       "   child_mort  exports    health   imports  income  inflation  life_expec  \\\n",
       "0        90.2    55.30   41.9174   248.297    1610       9.44        56.2   \n",
       "1        16.6  1145.20  267.8950  1987.740    9930       4.49        76.3   \n",
       "2        27.3  1712.64  185.9820  1400.440   12900      16.10        76.5   \n",
       "3       119.0  2199.19  100.6050  1514.370    5900      22.40        60.1   \n",
       "4        10.3  5551.00  735.6600  7185.800   19100       1.44        76.8   \n",
       "\n",
       "   total_fer   gdpp  \n",
       "0       5.82    553  \n",
       "1       1.65   4090  \n",
       "2       2.89   4460  \n",
       "3       6.16   3530  \n",
       "4       2.13  12200  "
      ]
     },
     "execution_count": 140,
     "metadata": {},
     "output_type": "execute_result"
    }
   ],
   "source": [
    "# Putting the rest of the numerical column into a separate dataframe\n",
    "df2 = country[country.columns[1:]]\n",
    "df2.head()"
   ]
  },
  {
   "cell_type": "code",
   "execution_count": 141,
   "metadata": {},
   "outputs": [
    {
     "name": "stderr",
     "output_type": "stream",
     "text": [
      "C:\\Users\\SAIFULLAH\\Anaconda3\\lib\\site-packages\\sklearn\\preprocessing\\data.py:625: DataConversionWarning: Data with input dtype int64, float64 were all converted to float64 by StandardScaler.\n",
      "  return self.partial_fit(X, y)\n",
      "C:\\Users\\SAIFULLAH\\Anaconda3\\lib\\site-packages\\sklearn\\base.py:462: DataConversionWarning: Data with input dtype int64, float64 were all converted to float64 by StandardScaler.\n",
      "  return self.fit(X, **fit_params).transform(X)\n"
     ]
    },
    {
     "data": {
      "text/plain": [
       "array([[ 1.29153238, -0.4110113 , -0.56503989, ..., -1.61909203,\n",
       "         1.90288227, -0.67917961],\n",
       "       [-0.5389489 , -0.35019096, -0.43921769, ...,  0.64786643,\n",
       "        -0.85997281, -0.48562324],\n",
       "       [-0.27283273, -0.31852577, -0.48482608, ...,  0.67042323,\n",
       "        -0.0384044 , -0.46537561],\n",
       "       ...,\n",
       "       [-0.37231541, -0.36146329, -0.53848844, ...,  0.28695762,\n",
       "        -0.66120626, -0.63775406],\n",
       "       [ 0.44841668, -0.39216643, -0.55059641, ..., -0.34463279,\n",
       "         1.14094382, -0.63775406],\n",
       "       [ 1.11495062, -0.38395214, -0.54049845, ..., -2.09278484,\n",
       "         1.6246091 , -0.62954556]])"
      ]
     },
     "execution_count": 141,
     "metadata": {},
     "output_type": "execute_result"
    }
   ],
   "source": [
    "# Scaling the columns\n",
    "standard_scaler = StandardScaler()\n",
    "df2_scaled = standard_scaler.fit_transform(df2)\n",
    "df2_scaled"
   ]
  },
  {
   "cell_type": "code",
   "execution_count": 142,
   "metadata": {},
   "outputs": [
    {
     "data": {
      "text/plain": [
       "PCA(copy=True, iterated_power='auto', n_components=None, random_state=42,\n",
       "  svd_solver='randomized', tol=0.0, whiten=False)"
      ]
     },
     "execution_count": 142,
     "metadata": {},
     "output_type": "execute_result"
    }
   ],
   "source": [
    "# Applying the PCA on the dataset\n",
    "pca = PCA(svd_solver = 'randomized', random_state =42)\n",
    "# fitting the data\n",
    "pca.fit(df2_scaled)"
   ]
  },
  {
   "cell_type": "code",
   "execution_count": 143,
   "metadata": {},
   "outputs": [
    {
     "data": {
      "text/plain": [
       "array([[-0.31639186,  0.34288671,  0.358535  ,  0.34486492,  0.38004113,\n",
       "        -0.14308531,  0.34385651, -0.30284224,  0.39998795],\n",
       "       [ 0.47626735,  0.39731091,  0.1550529 ,  0.37078075,  0.12838448,\n",
       "         0.22126089, -0.36981973,  0.4597152 ,  0.2006241 ],\n",
       "       [-0.15001225, -0.03057367, -0.07570322, -0.07217386,  0.14576421,\n",
       "         0.94841868,  0.19675173, -0.07783431,  0.01033941],\n",
       "       [-0.14805195,  0.44942527, -0.59971228,  0.46179779, -0.15480592,\n",
       "        -0.00762798, -0.01839465, -0.21392805, -0.36477239],\n",
       "       [ 0.1019948 , -0.03853829, -0.49319984, -0.2527867 ,  0.79407469,\n",
       "        -0.13642345, -0.15404105, -0.02033568,  0.08750149],\n",
       "       [ 0.19658519, -0.03891112,  0.18069888, -0.01217988, -0.03814681,\n",
       "         0.10840284, -0.58600986, -0.75390075,  0.04538167],\n",
       "       [ 0.76126725, -0.01366973, -0.06461567,  0.02718244, -0.02311312,\n",
       "        -0.02207663,  0.58120846, -0.27314534, -0.04402264],\n",
       "       [ 0.00644411, -0.05526371,  0.43007213,  0.1311355 ,  0.3938113 ,\n",
       "        -0.00607016,  0.002966  ,  0.03429334, -0.79902242],\n",
       "       [-0.00495137, -0.71792388, -0.13034593,  0.66568664,  0.07901102,\n",
       "         0.01128137, -0.03159406,  0.02368185,  0.12846398]])"
      ]
     },
     "execution_count": 143,
     "metadata": {},
     "output_type": "execute_result"
    }
   ],
   "source": [
    "# list of PCA components\n",
    "pca.components_"
   ]
  },
  {
   "cell_type": "code",
   "execution_count": 144,
   "metadata": {},
   "outputs": [
    {
     "data": {
      "text/plain": [
       "array([5.89372984e-01, 1.84451685e-01, 9.91147170e-02, 6.07227801e-02,\n",
       "       3.02917253e-02, 2.45982702e-02, 9.39743701e-03, 1.55641971e-03,\n",
       "       4.93981394e-04])"
      ]
     },
     "execution_count": 144,
     "metadata": {},
     "output_type": "execute_result"
    }
   ],
   "source": [
    "# Checking the variance ratio\n",
    "pca.explained_variance_ratio_"
   ]
  },
  {
   "cell_type": "code",
   "execution_count": 145,
   "metadata": {},
   "outputs": [
    {
     "data": {
      "image/png": "[encoded data removed]",
      "text/plain": [
       "<Figure size 864x576 with 1 Axes>"
      ]
     },
     "metadata": {
      "needs_background": "light"
     },
     "output_type": "display_data"
    }
   ],
   "source": [
    "# Plotting the scree plot\n",
    "fig = plt.figure(figsize = (12,8))\n",
    "plt.plot(np.cumsum(pca.explained_variance_ratio_))\n",
    "plt.xlabel('number of components index')\n",
    "plt.ylabel('cumulative explained variance')\n",
    "plt.show()"
   ]
  },
  {
   "cell_type": "markdown",
   "metadata": {},
   "source": [
    "- As you can see 4 principle components sufficiently explained 93% of the variance.\n",
    "- Equivantly this means that 4 themes are sufficient in explaining the dtaset."
   ]
  },
  {
   "cell_type": "code",
   "execution_count": 146,
   "metadata": {},
   "outputs": [
    {
     "data": {
      "text/html": [
       "<div>\n",
       "<style scoped>\n",
       "    .dataframe tbody tr th:only-of-type {\n",
       "        vertical-align: middle;\n",
       "    }\n",
       "\n",
       "    .dataframe tbody tr th {\n",
       "        vertical-align: top;\n",
       "    }\n",
       "\n",
       "    .dataframe thead th {\n",
       "        text-align: right;\n",
       "    }\n",
       "</style>\n",
       "<table border=\"1\" class=\"dataframe\">\n",
       "  <thead>\n",
       "    <tr style=\"text-align: right;\">\n",
       "      <th></th>\n",
       "      <th>Feature</th>\n",
       "      <th>PC1</th>\n",
       "      <th>PC2</th>\n",
       "      <th>PC3</th>\n",
       "      <th>PC4</th>\n",
       "    </tr>\n",
       "  </thead>\n",
       "  <tbody>\n",
       "    <tr>\n",
       "      <th>0</th>\n",
       "      <td>child_mort</td>\n",
       "      <td>-0.316392</td>\n",
       "      <td>0.476267</td>\n",
       "      <td>-0.150012</td>\n",
       "      <td>-0.148052</td>\n",
       "    </tr>\n",
       "    <tr>\n",
       "      <th>1</th>\n",
       "      <td>exports</td>\n",
       "      <td>0.342887</td>\n",
       "      <td>0.397311</td>\n",
       "      <td>-0.030574</td>\n",
       "      <td>0.449425</td>\n",
       "    </tr>\n",
       "    <tr>\n",
       "      <th>2</th>\n",
       "      <td>health</td>\n",
       "      <td>0.358535</td>\n",
       "      <td>0.155053</td>\n",
       "      <td>-0.075703</td>\n",
       "      <td>-0.599712</td>\n",
       "    </tr>\n",
       "    <tr>\n",
       "      <th>3</th>\n",
       "      <td>imports</td>\n",
       "      <td>0.344865</td>\n",
       "      <td>0.370781</td>\n",
       "      <td>-0.072174</td>\n",
       "      <td>0.461798</td>\n",
       "    </tr>\n",
       "    <tr>\n",
       "      <th>4</th>\n",
       "      <td>income</td>\n",
       "      <td>0.380041</td>\n",
       "      <td>0.128384</td>\n",
       "      <td>0.145764</td>\n",
       "      <td>-0.154806</td>\n",
       "    </tr>\n",
       "    <tr>\n",
       "      <th>5</th>\n",
       "      <td>inflation</td>\n",
       "      <td>-0.143085</td>\n",
       "      <td>0.221261</td>\n",
       "      <td>0.948419</td>\n",
       "      <td>-0.007628</td>\n",
       "    </tr>\n",
       "    <tr>\n",
       "      <th>6</th>\n",
       "      <td>life_expec</td>\n",
       "      <td>0.343857</td>\n",
       "      <td>-0.369820</td>\n",
       "      <td>0.196752</td>\n",
       "      <td>-0.018395</td>\n",
       "    </tr>\n",
       "    <tr>\n",
       "      <th>7</th>\n",
       "      <td>total_fer</td>\n",
       "      <td>-0.302842</td>\n",
       "      <td>0.459715</td>\n",
       "      <td>-0.077834</td>\n",
       "      <td>-0.213928</td>\n",
       "    </tr>\n",
       "    <tr>\n",
       "      <th>8</th>\n",
       "      <td>gdpp</td>\n",
       "      <td>0.399988</td>\n",
       "      <td>0.200624</td>\n",
       "      <td>0.010339</td>\n",
       "      <td>-0.364772</td>\n",
       "    </tr>\n",
       "  </tbody>\n",
       "</table>\n",
       "</div>"
      ],
      "text/plain": [
       "      Feature       PC1       PC2       PC3       PC4\n",
       "0  child_mort -0.316392  0.476267 -0.150012 -0.148052\n",
       "1     exports  0.342887  0.397311 -0.030574  0.449425\n",
       "2      health  0.358535  0.155053 -0.075703 -0.599712\n",
       "3     imports  0.344865  0.370781 -0.072174  0.461798\n",
       "4      income  0.380041  0.128384  0.145764 -0.154806\n",
       "5   inflation -0.143085  0.221261  0.948419 -0.007628\n",
       "6  life_expec  0.343857 -0.369820  0.196752 -0.018395\n",
       "7   total_fer -0.302842  0.459715 -0.077834 -0.213928\n",
       "8        gdpp  0.399988  0.200624  0.010339 -0.364772"
      ]
     },
     "execution_count": 146,
     "metadata": {},
     "output_type": "execute_result"
    }
   ],
   "source": [
    "# Checking how original variables explained the principle components\n",
    "colnames = list(df2.columns)\n",
    "pca_df = pd.DataFrame({'Feature':colnames,'PC1':pca.components_[0],'PC2':pca.components_[1],'PC3':pca.components_[2],'PC4':pca.components_[3]})\n",
    "pca_df"
   ]
  },
  {
   "cell_type": "code",
   "execution_count": 147,
   "metadata": {},
   "outputs": [
    {
     "data": {
      "image/png": "[encoded data removed]",
      "text/plain": [
       "<Figure size 576x576 with 1 Axes>"
      ]
     },
     "metadata": {
      "needs_background": "light"
     },
     "output_type": "display_data"
    }
   ],
   "source": [
    "# plot them to visualise these features\n",
    "fig = plt.figure(figsize=(8,8))\n",
    "plt.scatter(pca_df.PC1, pca_df.PC2)\n",
    "plt.xlabel('Principal Component 1')\n",
    "plt.ylabel('Principal Component 2')\n",
    "for i, txt in enumerate(pca_df.Feature):\n",
    "    plt.annotate(txt, (pca_df.PC1[i],pca_df.PC2[i]))\n",
    "plt.tight_layout()\n",
    "plt.show()"
   ]
  },
  {
   "cell_type": "code",
   "execution_count": 148,
   "metadata": {},
   "outputs": [
    {
     "data": {
      "image/png": "[encoded data removed]",
      "text/plain": [
       "<Figure size 576x576 with 1 Axes>"
      ]
     },
     "metadata": {
      "needs_background": "light"
     },
     "output_type": "display_data"
    }
   ],
   "source": [
    "# plot them to visualise these features\n",
    "fig = plt.figure(figsize=(8,8))\n",
    "plt.scatter(pca_df.PC3, pca_df.PC4)\n",
    "plt.xlabel('Principal Component 3')\n",
    "plt.ylabel('Principal Component 4')\n",
    "for i, txt in enumerate(pca_df.Feature):\n",
    "    plt.annotate(txt, (pca_df.PC3[i],pca_df.PC4[i]))\n",
    "plt.tight_layout()\n",
    "plt.show()"
   ]
  },
  {
   "cell_type": "code",
   "execution_count": 149,
   "metadata": {},
   "outputs": [
    {
     "data": {
      "text/plain": [
       "(167, 4)"
      ]
     },
     "execution_count": 149,
     "metadata": {},
     "output_type": "execute_result"
    }
   ],
   "source": [
    "# let's go ahead and do the dimentionality reduction using 4 principle componenets\n",
    "pca_final = IncrementalPCA(n_components = 4)\n",
    "df_pca = pca_final.fit_transform(df2_scaled)\n",
    "df_pca.shape"
   ]
  },
  {
   "cell_type": "code",
   "execution_count": 150,
   "metadata": {},
   "outputs": [
    {
     "data": {
      "text/plain": [
       "array([[-2.63664719e+00,  1.47208541e+00, -5.46499687e-01,\n",
       "         2.37267111e-01],\n",
       "       [-2.38453563e-02, -1.43581581e+00, -9.07965149e-03,\n",
       "        -4.42921246e-01],\n",
       "       [-4.59260048e-01, -6.78793979e-01,  9.67851701e-01,\n",
       "        -1.76389183e-01],\n",
       "       [-2.72358099e+00,  2.17601815e+00,  5.97793905e-01,\n",
       "         4.38918801e-01],\n",
       "       [ 6.48777079e-01, -1.02649806e+00, -2.44170307e-01,\n",
       "        -2.67513413e-01],\n",
       "       [ 3.64467926e-02, -6.84622218e-01,  1.46536060e+00,\n",
       "         6.60677268e-02],\n",
       "       [-3.34274149e-01, -1.27903261e+00,  1.90771929e-01,\n",
       "        -5.01435384e-01],\n",
       "       [ 3.18436150e+00, -2.38373184e-01, -1.68539991e-01,\n",
       "         1.66969553e+00],\n",
       "       [ 3.81813720e+00,  2.62613732e-01, -2.97336122e-01,\n",
       "         9.74405166e-01],\n",
       "       [-4.67475427e-01, -4.94060580e-01,  6.08605487e-01,\n",
       "        -2.58516905e-01],\n",
       "       [ 1.49957973e+00, -4.25884552e-01, -5.57799928e-01,\n",
       "         2.24968322e-01],\n",
       "       [ 1.47129299e+00, -3.25734384e-01,  4.26551347e-01,\n",
       "        -1.17964031e-01],\n",
       "       [-1.01520291e+00, -7.14449554e-01, -1.05621660e-01,\n",
       "        -3.86759065e-01],\n",
       "       [ 8.44516996e-01, -1.00990198e+00, -4.13553222e-01,\n",
       "        -1.46517736e-01],\n",
       "       [-1.45349574e-02, -9.86440094e-01,  8.94359751e-01,\n",
       "        -5.05126746e-01],\n",
       "       [ 3.96110220e+00,  8.37658144e-01, -2.95167840e-01,\n",
       "         2.43892243e-01],\n",
       "       [-4.04074594e-01, -9.24494729e-01, -4.94882540e-01,\n",
       "        -3.70053291e-01],\n",
       "       [-2.36500877e+00,  1.17323832e+00, -1.24197992e+00,\n",
       "         2.38687739e-01],\n",
       "       [-7.16069241e-01, -7.70732948e-01, -1.23956291e-01,\n",
       "        -3.62802120e-01],\n",
       "       [-1.01892957e+00, -4.29184859e-01,  5.84068340e-02,\n",
       "        -2.04314502e-01],\n",
       "       [ 2.51204905e-01, -1.70065961e+00, -2.38844325e-01,\n",
       "        -4.62239372e-01],\n",
       "       [-1.12955278e+00,  4.00938265e-01, -2.37767352e-01,\n",
       "        -1.37561744e-01],\n",
       "       [ 1.66174419e-01, -1.01885419e+00,  2.74252555e-01,\n",
       "         2.65835724e-02],\n",
       "       [ 2.69869864e+00,  3.76827900e-01,  1.62219931e+00,\n",
       "         3.06711709e-01],\n",
       "       [ 2.79629898e-01, -1.32292201e+00, -3.14874227e-01,\n",
       "        -4.28776993e-01],\n",
       "       [-2.75261023e+00,  1.66712140e+00, -8.46749434e-01,\n",
       "         3.27235315e-01],\n",
       "       [-2.76358752e+00,  1.62883424e+00, -2.95656064e-01,\n",
       "         3.16530874e-01],\n",
       "       [-1.17996011e+00, -4.94620688e-01, -5.69686299e-01,\n",
       "        -3.47361293e-01],\n",
       "       [-2.43989940e+00,  1.28983370e+00, -1.22482195e+00,\n",
       "         1.94814867e-01],\n",
       "       [ 3.39776294e+00, -6.53646264e-02, -9.89529467e-02,\n",
       "         1.57429355e+00],\n",
       "       [-5.24653624e-01, -9.80778416e-01, -5.63573998e-01,\n",
       "        -3.66937824e-01],\n",
       "       [-3.23814324e+00,  2.18275448e+00, -1.61356843e+00,\n",
       "         2.54537675e-01],\n",
       "       [-3.18676012e+00,  2.35978275e+00, -1.07793569e+00,\n",
       "         5.40646444e-01],\n",
       "       [ 6.91455481e-01, -1.11713348e+00,  4.98539809e-01,\n",
       "        -6.43689910e-02],\n",
       "       [-1.30236879e-01, -1.36588567e+00,  1.80696713e-01,\n",
       "        -4.36824538e-01],\n",
       "       [-1.50391768e-02, -1.29481386e+00, -8.62051833e-02,\n",
       "        -2.28612945e-01],\n",
       "       [-1.94993473e+00,  6.05857798e-01, -7.70258711e-01,\n",
       "         8.70008373e-02],\n",
       "       [-3.11605619e+00,  2.17273974e+00,  3.57523288e-01,\n",
       "         4.35244253e-01],\n",
       "       [-2.04803223e+00,  1.08658489e+00,  7.17461693e-01,\n",
       "         3.66971919e-02],\n",
       "       [ 4.29914646e-01, -1.37698911e+00,  2.66801278e-01,\n",
       "        -1.56063895e-01],\n",
       "       [-2.57320863e+00,  1.49961649e+00, -9.56299913e-01,\n",
       "         2.13689756e-01],\n",
       "       [ 8.45827832e-01, -1.26444915e+00, -2.65372808e-01,\n",
       "        -1.67261000e-01],\n",
       "       [ 2.31364253e+00, -5.50715213e-01, -6.06424181e-02,\n",
       "        -1.21376258e-01],\n",
       "       [ 1.67418313e+00, -8.68746296e-01, -4.31674221e-01,\n",
       "        -2.50297330e-01],\n",
       "       [ 4.37942320e+00,  9.28432358e-01, -2.25447938e-01,\n",
       "         1.50226447e+00],\n",
       "       [-3.68711722e-01, -8.14928566e-01, -6.80072593e-02,\n",
       "        -1.75911321e-01],\n",
       "       [-3.04235193e-01, -9.76708239e-01,  1.78535140e-01,\n",
       "        -1.95187492e-01],\n",
       "       [-8.37714212e-01, -5.32419119e-01,  2.57239284e-01,\n",
       "        -1.91820488e-01],\n",
       "       [-3.38121396e-01, -1.22091320e+00, -2.77391459e-01,\n",
       "        -3.85259300e-01],\n",
       "       [-1.05325585e+00,  2.70200294e+00,  1.06073005e+00,\n",
       "         4.25477428e-01],\n",
       "       [-1.94899697e+00,  4.92196712e-01, -3.72425137e-02,\n",
       "        -4.63910673e-02],\n",
       "       [ 1.06442426e+00, -9.27164091e-01, -1.91365135e-01,\n",
       "        -4.56407263e-01],\n",
       "       [-7.63323577e-01, -5.83201426e-01, -3.76627671e-01,\n",
       "        -4.02809952e-01],\n",
       "       [ 3.20389913e+00,  2.81163129e-03, -3.07152465e-01,\n",
       "         9.89392577e-01],\n",
       "       [ 2.89520532e+00, -2.97691287e-01, -2.55811715e-01,\n",
       "         1.47701000e+00],\n",
       "       [-1.28198433e+00,  8.52402580e-01,  5.18753612e-01,\n",
       "         1.21448281e-01],\n",
       "       [-2.10566152e+00,  8.25765468e-01, -7.50257502e-01,\n",
       "         2.21167256e-01],\n",
       "       [-3.62088512e-01, -1.16882216e+00,  2.35045413e-01,\n",
       "        -4.37619444e-01],\n",
       "       [ 3.30216131e+00, -1.55142183e-01, -2.80613541e-01,\n",
       "         1.12433873e+00],\n",
       "       [-2.00244565e+00,  7.51030513e-01,  3.68342408e-01,\n",
       "        -8.97515332e-03],\n",
       "       [ 1.93167149e+00, -1.01738519e+00, -2.17149011e-01,\n",
       "         6.05708726e-01],\n",
       "       [-8.63735899e-02, -1.04067316e+00, -5.06107237e-01,\n",
       "        -3.20481879e-01],\n",
       "       [-8.58723785e-01, -5.37516510e-01, -2.34012962e-01,\n",
       "        -1.63442310e-01],\n",
       "       [-2.71346083e+00,  1.61566585e+00,  3.43058425e-02,\n",
       "         2.22578594e-01],\n",
       "       [-2.60916678e+00,  1.40830043e+00, -1.19821310e+00,\n",
       "         1.73184590e-01],\n",
       "       [-9.32909863e-01, -4.33964413e-01, -3.01794442e-01,\n",
       "        -3.82064878e-01],\n",
       "       [-3.93818385e+00,  3.04527919e+00, -1.79886317e+00,\n",
       "         6.82523969e-02],\n",
       "       [ 1.05106912e+00, -9.96104021e-01, -1.65464309e-01,\n",
       "        -5.36279347e-01],\n",
       "       [ 3.10158963e+00,  1.69252114e-01,  1.75179633e-01,\n",
       "         7.59526500e-01],\n",
       "       [-1.26551477e+00, -2.74099493e-01, -7.10128976e-02,\n",
       "        -3.02038482e-01],\n",
       "       [-8.43090075e-01, -5.68220775e-01,  7.13589698e-01,\n",
       "        -3.13556638e-01],\n",
       "       [-7.91627783e-02, -9.74926881e-01,  1.01588571e+00,\n",
       "        -2.45218784e-01],\n",
       "       [-1.19815519e+00,  3.64739772e-01,  6.75340368e-01,\n",
       "         1.37709180e-01],\n",
       "       [ 4.65994226e+00,  1.40153632e+00, -7.53864610e-01,\n",
       "        -3.90515335e-01],\n",
       "       [ 1.78372403e+00, -3.96339073e-01, -1.48938159e-01,\n",
       "         6.30935148e-01],\n",
       "       [ 2.55525592e+00, -7.69683918e-01, -2.01040044e-01,\n",
       "         9.34319854e-01],\n",
       "       [-2.94256386e-01, -1.07627362e+00,  3.84727776e-01,\n",
       "        -3.94188844e-01],\n",
       "       [ 2.86227852e+00, -8.67783532e-01, -3.97723063e-01,\n",
       "         1.52540131e+00],\n",
       "       [-5.23407002e-01, -6.42897781e-01,  2.14677342e-01,\n",
       "        -1.35611345e-01],\n",
       "       [-3.56925338e-01, -2.23996129e-01,  1.16546044e+00,\n",
       "        -1.48784152e-01],\n",
       "       [-1.73762589e+00,  2.82076960e-01, -8.72348674e-01,\n",
       "        -5.21180575e-02],\n",
       "       [-1.66747643e+00,  2.34843050e-01, -9.66715912e-01,\n",
       "        -1.34183637e-01],\n",
       "       [ 2.78314537e+00,  4.17603376e-01,  1.08056725e+00,\n",
       "         2.71124248e-01],\n",
       "       [-1.09209649e+00, -5.49128134e-01,  1.47744440e-01,\n",
       "        -3.38032749e-01],\n",
       "       [-1.63765953e+00,  2.39648238e-01, -2.13412694e-01,\n",
       "        -1.80128168e-01],\n",
       "       [ 6.65798676e-01, -1.21090282e+00, -4.89179693e-01,\n",
       "        -4.22216465e-01],\n",
       "       [ 6.45933380e-01, -1.50090227e+00, -2.66629428e-01,\n",
       "        -3.48789138e-01],\n",
       "       [-2.43372805e+00,  1.16191637e+00, -1.16622881e+00,\n",
       "        -1.90070668e-01],\n",
       "       [-2.25878758e+00,  9.34273419e-01, -7.65320030e-01,\n",
       "         1.03323516e-01],\n",
       "       [ 4.91727584e-01, -5.19832692e-01,  9.56039438e-01,\n",
       "        -1.63576753e-01],\n",
       "       [ 7.77197185e-01, -1.00590181e+00, -1.93214462e-01,\n",
       "        -4.34452177e-01],\n",
       "       [ 1.26336338e+01,  8.21980036e+00, -5.71183722e-01,\n",
       "        -4.58724505e+00],\n",
       "       [ 8.27317662e-02, -1.46945385e+00, -2.42164793e-01,\n",
       "        -5.02201720e-01],\n",
       "       [-1.99737834e+00,  5.53877162e-01, -3.36365174e-01,\n",
       "        -3.93287079e-02],\n",
       "       [-2.70988303e+00,  1.49778549e+00, -3.61391284e-01,\n",
       "         1.34213421e-01],\n",
       "       [ 4.25837206e-01, -8.49811145e-01,  2.70370901e-01,\n",
       "        -4.57717568e-01],\n",
       "       [ 2.29337535e-01, -1.18446640e+00, -1.52384484e-01,\n",
       "        -4.27954646e-01],\n",
       "       [-2.94558907e+00,  2.01471902e+00, -1.13725499e+00,\n",
       "         5.08644350e-01],\n",
       "       [ 2.63240742e+00,  7.43951425e-02, -3.73266156e-02,\n",
       "        -1.27436403e+00],\n",
       "       [-2.11516632e+00,  1.04404267e+00,  5.91793687e-01,\n",
       "         1.92237037e-01],\n",
       "       [ 3.10520304e-01, -1.18535864e+00, -3.43192096e-01,\n",
       "        -4.47120678e-01],\n",
       "       [-1.11621290e+00, -2.13966198e-01, -5.56650471e-01,\n",
       "        -1.71396123e-01],\n",
       "       [-5.12701772e-01, -1.23628468e+00,  4.02687025e-01,\n",
       "        -6.21965123e-01],\n",
       "       [-1.26989922e+00,  7.63013659e-02,  2.77137518e+00,\n",
       "        -3.30800799e-01],\n",
       "       [ 3.54587682e-01, -1.40920556e+00, -2.28723976e-01,\n",
       "        -3.62292615e-01],\n",
       "       [-5.48026483e-01, -9.80915700e-01, -5.13443597e-01,\n",
       "        -3.23429432e-01],\n",
       "       [-2.73141820e+00,  1.54688013e+00, -7.80908941e-01,\n",
       "         2.01502334e-01],\n",
       "       [-1.26482449e+00, -3.58765436e-01, -2.45855356e-01,\n",
       "        -3.21292789e-01],\n",
       "       [-1.33514881e+00,  4.15853521e-01, -7.59340697e-01,\n",
       "        -1.24779434e-01],\n",
       "       [-1.25370551e+00, -4.07839996e-01,  5.50326358e-01,\n",
       "        -3.54226903e-01],\n",
       "       [ 4.49591279e+00,  9.94064602e-01, -3.99317923e-01,\n",
       "         7.65229629e-01],\n",
       "       [ 2.20877733e+00, -4.55078817e-01,  1.16235630e-02,\n",
       "         9.54892699e-01],\n",
       "       [-3.06240988e+00,  2.10883187e+00, -1.31109319e+00,\n",
       "         5.95812777e-01],\n",
       "       [-3.93133281e+00,  3.82500511e+00,  7.86789800e+00,\n",
       "         5.76284454e-01],\n",
       "       [ 5.84935070e+00,  1.66970142e+00,  1.08885527e-01,\n",
       "         2.69859611e+00],\n",
       "       [ 1.05198320e+00, -2.75579923e-02,  1.19177846e+00,\n",
       "         8.44598514e-03],\n",
       "       [-1.86236201e+00,  5.67760857e-01, -1.04179529e-01,\n",
       "        -5.94273013e-03],\n",
       "       [ 3.01438150e-01, -8.81296452e-01, -2.01199565e-01,\n",
       "        -2.70421517e-01],\n",
       "       [-4.89286999e-01, -9.20505359e-01, -1.04027888e-02,\n",
       "        -3.25064163e-01],\n",
       "       [-1.81640099e-01, -1.16571319e+00,  8.64132096e-02,\n",
       "        -2.43373376e-01],\n",
       "       [-9.30031110e-01, -6.01853461e-01, -3.46482259e-01,\n",
       "        -2.75838182e-01],\n",
       "       [ 8.54375094e-01, -1.28797486e+00, -1.65962979e-01,\n",
       "        -2.26983398e-01],\n",
       "       [ 1.76020483e+00, -1.08611145e+00, -2.27274575e-01,\n",
       "         3.68527225e-01],\n",
       "       [ 5.13151814e+00,  1.46310087e+00,  1.12046542e+00,\n",
       "         8.22405084e-01],\n",
       "       [ 2.82917124e-01, -1.24415053e+00, -8.15174661e-02,\n",
       "        -3.39422930e-01],\n",
       "       [ 1.41909985e-01, -7.97548472e-01,  8.21420580e-01,\n",
       "        -2.07258598e-01],\n",
       "       [-1.74877331e+00,  2.59280627e-01, -8.06498444e-01,\n",
       "        -2.26119565e-02],\n",
       "       [-8.49924371e-01, -4.95012421e-01, -5.30906880e-01,\n",
       "        -8.49416237e-02],\n",
       "       [ 9.12249120e-01,  3.35118703e-02,  1.28844815e+00,\n",
       "         2.52008081e-01],\n",
       "       [-1.86296100e+00,  4.94748150e-01, -9.19142472e-01,\n",
       "         7.71608401e-02],\n",
       "       [ 1.85258665e-01, -1.43418341e+00,  1.28249918e-01,\n",
       "        -4.05631005e-01],\n",
       "       [ 6.66860789e-01, -7.70625747e-01, -8.37679474e-01,\n",
       "        -6.64122326e-01],\n",
       "       [-3.22458835e+00,  2.32256042e+00, -1.28086650e-01,\n",
       "         3.52305355e-01],\n",
       "       [ 6.58249368e+00,  2.91363335e+00, -2.24591473e-01,\n",
       "        -3.49633927e+00],\n",
       "       [ 1.40975018e+00, -7.90932796e-01, -3.39379646e-01,\n",
       "        -3.89568609e-01],\n",
       "       [ 2.04122596e+00, -7.26884482e-01, -3.95427569e-01,\n",
       "        -7.73589301e-02],\n",
       "       [-1.51849922e+00,  1.22797240e-02, -3.50581448e-01,\n",
       "        -1.91078509e-01],\n",
       "       [-1.17778837e+00,  3.55703539e-01, -5.34096778e-01,\n",
       "        -9.44805925e-02],\n",
       "       [ 1.75618557e+00, -1.02241928e+00,  8.05101569e-02,\n",
       "        -9.18827155e-02],\n",
       "       [ 2.24505677e+00, -1.00137913e+00, -2.01621058e-01,\n",
       "         7.09321699e-01],\n",
       "       [-5.46367648e-01, -9.53156543e-01,  1.58537901e+00,\n",
       "        -3.97248288e-01],\n",
       "       [-2.26403737e-01, -9.88159815e-01, -1.63415826e-01,\n",
       "        -4.02810695e-01],\n",
       "       [-2.01740914e+00,  8.48743368e-01,  6.97120101e-01,\n",
       "         1.47532322e-01],\n",
       "       [-1.98169634e-01, -5.68219224e-01,  3.81701940e-02,\n",
       "        -1.97885421e-01],\n",
       "       [ 3.80853455e+00,  3.86906983e-01, -2.70980526e-01,\n",
       "         1.15652683e+00],\n",
       "       [ 6.26675986e+00,  1.85841617e+00, -5.13418543e-01,\n",
       "         1.57952762e+00],\n",
       "       [-1.37703058e+00, -1.67223106e-01,  2.85240143e-01,\n",
       "        -1.88171299e-01],\n",
       "       [-2.27820681e+00,  1.00703408e+00, -4.00046363e-01,\n",
       "         1.39092033e-01],\n",
       "       [ 1.73439561e-01, -1.40174413e+00, -5.00013577e-04,\n",
       "        -5.23404067e-01],\n",
       "       [-2.00826808e+00,  1.08527874e+00,  1.38685245e+00,\n",
       "         4.37888138e-01],\n",
       "       [-2.24442260e+00,  9.05619255e-01, -1.18892745e+00,\n",
       "         7.19999981e-02],\n",
       "       [-8.58737645e-01, -5.46740284e-01, -3.68778061e-01,\n",
       "        -1.76307212e-01],\n",
       "       [-6.28721875e-02, -1.28473396e+00, -7.83028469e-02,\n",
       "        -3.89974245e-01],\n",
       "       [ 3.28028293e-01, -1.06692892e+00,  2.66149671e-01,\n",
       "        -3.85584981e-02],\n",
       "       [-8.95487918e-01, -1.90537198e-01, -6.17520984e-01,\n",
       "        -2.52276543e-01],\n",
       "       [-2.62206933e+00,  1.46245927e+00, -4.09204084e-01,\n",
       "         2.72634318e-01],\n",
       "       [-3.73030787e-01, -1.16243217e+00,  6.67469093e-01,\n",
       "        -5.54336827e-01],\n",
       "       [ 2.68993565e+00,  5.41348875e-01,  9.62262375e-01,\n",
       "        -3.38272082e-01],\n",
       "       [ 2.60744484e+00, -3.66948278e-01, -1.78684571e-01,\n",
       "         1.05381911e+00],\n",
       "       [ 3.78744875e+00,  1.42623972e-01, -4.02690281e-01,\n",
       "         3.19565530e+00],\n",
       "       [ 4.55561128e-01, -1.09921201e+00,  4.78721368e-02,\n",
       "        -1.94849860e-02],\n",
       "       [-1.03177878e+00, -5.67628352e-01,  7.55918725e-01,\n",
       "        -3.88882776e-01],\n",
       "       [-1.17572418e+00, -2.82174357e-01, -6.62106108e-01,\n",
       "        -2.84828104e-01],\n",
       "       [-3.13053760e-01, -1.68601008e-02,  3.66113720e+00,\n",
       "         3.45335082e-02],\n",
       "       [-5.94294426e-01, -1.08430697e+00,  5.26444426e-01,\n",
       "        -5.08115208e-01],\n",
       "       [-1.80272917e+00,  5.85734111e-01,  1.18064203e+00,\n",
       "         5.23191368e-02],\n",
       "       [-2.64540248e+00,  1.57149044e+00, -1.77418700e-01,\n",
       "         1.62952524e-01]])"
      ]
     },
     "execution_count": 150,
     "metadata": {},
     "output_type": "execute_result"
    }
   ],
   "source": [
    "df_pca"
   ]
  },
  {
   "cell_type": "code",
   "execution_count": 151,
   "metadata": {},
   "outputs": [],
   "source": [
    "#Creating tanspose of that so that each coumn is properly arranged\n",
    "pc = np.transpose(df_pca)"
   ]
  },
  {
   "cell_type": "code",
   "execution_count": 152,
   "metadata": {},
   "outputs": [
    {
     "data": {
      "text/html": [
       "<div>\n",
       "<style scoped>\n",
       "    .dataframe tbody tr th:only-of-type {\n",
       "        vertical-align: middle;\n",
       "    }\n",
       "\n",
       "    .dataframe tbody tr th {\n",
       "        vertical-align: top;\n",
       "    }\n",
       "\n",
       "    .dataframe thead th {\n",
       "        text-align: right;\n",
       "    }\n",
       "</style>\n",
       "<table border=\"1\" class=\"dataframe\">\n",
       "  <thead>\n",
       "    <tr style=\"text-align: right;\">\n",
       "      <th></th>\n",
       "      <th>PC1</th>\n",
       "      <th>PC2</th>\n",
       "      <th>PC3</th>\n",
       "      <th>PC4</th>\n",
       "    </tr>\n",
       "  </thead>\n",
       "  <tbody>\n",
       "    <tr>\n",
       "      <th>0</th>\n",
       "      <td>-2.636647</td>\n",
       "      <td>1.472085</td>\n",
       "      <td>-0.546500</td>\n",
       "      <td>0.237267</td>\n",
       "    </tr>\n",
       "    <tr>\n",
       "      <th>1</th>\n",
       "      <td>-0.023845</td>\n",
       "      <td>-1.435816</td>\n",
       "      <td>-0.009080</td>\n",
       "      <td>-0.442921</td>\n",
       "    </tr>\n",
       "    <tr>\n",
       "      <th>2</th>\n",
       "      <td>-0.459260</td>\n",
       "      <td>-0.678794</td>\n",
       "      <td>0.967852</td>\n",
       "      <td>-0.176389</td>\n",
       "    </tr>\n",
       "    <tr>\n",
       "      <th>3</th>\n",
       "      <td>-2.723581</td>\n",
       "      <td>2.176018</td>\n",
       "      <td>0.597794</td>\n",
       "      <td>0.438919</td>\n",
       "    </tr>\n",
       "    <tr>\n",
       "      <th>4</th>\n",
       "      <td>0.648777</td>\n",
       "      <td>-1.026498</td>\n",
       "      <td>-0.244170</td>\n",
       "      <td>-0.267513</td>\n",
       "    </tr>\n",
       "  </tbody>\n",
       "</table>\n",
       "</div>"
      ],
      "text/plain": [
       "        PC1       PC2       PC3       PC4\n",
       "0 -2.636647  1.472085 -0.546500  0.237267\n",
       "1 -0.023845 -1.435816 -0.009080 -0.442921\n",
       "2 -0.459260 -0.678794  0.967852 -0.176389\n",
       "3 -2.723581  2.176018  0.597794  0.438919\n",
       "4  0.648777 -1.026498 -0.244170 -0.267513"
      ]
     },
     "execution_count": 152,
     "metadata": {},
     "output_type": "execute_result"
    }
   ],
   "source": [
    "# Creating the dataframe of that\n",
    "pca_df2 = pd.DataFrame({'PC1':pc[0],'PC2':pc[1],'PC3':pc[2],'PC4':pc[3]})\n",
    "pca_df2.head()"
   ]
  },
  {
   "cell_type": "code",
   "execution_count": 153,
   "metadata": {},
   "outputs": [
    {
     "data": {
      "text/plain": [
       "{'whiskers': [<matplotlib.lines.Line2D at 0x1893b279f60>,\n",
       "  <matplotlib.lines.Line2D at 0x1893b2695c0>],\n",
       " 'caps': [<matplotlib.lines.Line2D at 0x1893b269908>,\n",
       "  <matplotlib.lines.Line2D at 0x1893f2266a0>],\n",
       " 'boxes': [<matplotlib.lines.Line2D at 0x1893b279e10>],\n",
       " 'medians': [<matplotlib.lines.Line2D at 0x1893b269f28>],\n",
       " 'fliers': [<matplotlib.lines.Line2D at 0x1893b269ef0>],\n",
       " 'means': []}"
      ]
     },
     "execution_count": 153,
     "metadata": {},
     "output_type": "execute_result"
    },
    {
     "data": {
      "image/png": "[encoded data removed]",
      "text/plain": [
       "<Figure size 432x288 with 1 Axes>"
      ]
     },
     "metadata": {
      "needs_background": "light"
     },
     "output_type": "display_data"
    }
   ],
   "source": [
    "# Outlier analysis for Principle Component 1\n",
    "# Plotting the box plot for the PC1\n",
    "plt.boxplot(pca_df2.PC1)"
   ]
  },
  {
   "cell_type": "markdown",
   "metadata": {},
   "source": [
    "- There are lots of outliers so we will remove them"
   ]
  },
  {
   "cell_type": "code",
   "execution_count": 154,
   "metadata": {},
   "outputs": [
    {
     "data": {
      "text/plain": [
       "{'whiskers': [<matplotlib.lines.Line2D at 0x1893d7b57f0>,\n",
       "  <matplotlib.lines.Line2D at 0x1893d7b5b38>],\n",
       " 'caps': [<matplotlib.lines.Line2D at 0x1893d7b5e80>,\n",
       "  <matplotlib.lines.Line2D at 0x1893d7b5f60>],\n",
       " 'boxes': [<matplotlib.lines.Line2D at 0x1893d7b5400>],\n",
       " 'medians': [<matplotlib.lines.Line2D at 0x1893d7c0550>],\n",
       " 'fliers': [<matplotlib.lines.Line2D at 0x1893d7c0898>],\n",
       " 'means': []}"
      ]
     },
     "execution_count": 154,
     "metadata": {},
     "output_type": "execute_result"
    },
    {
     "data": {
      "image/png": "[encoded data removed]",
      "text/plain": [
       "<Figure size 432x288 with 1 Axes>"
      ]
     },
     "metadata": {
      "needs_background": "light"
     },
     "output_type": "display_data"
    }
   ],
   "source": [
    "# Removing the outlier\n",
    "Q1 = pca_df2.PC1.quantile(0.05)\n",
    "Q3 = pca_df2.PC1.quantile(0.95)\n",
    "IQR = Q3 - Q1\n",
    "pca_df2 = pca_df2[(pca_df2.PC1 >= Q1) & (pca_df2.PC1 <= Q3)]\n",
    "plt.boxplot(pca_df2.PC1)"
   ]
  },
  {
   "cell_type": "code",
   "execution_count": 155,
   "metadata": {},
   "outputs": [
    {
     "data": {
      "text/plain": [
       "{'whiskers': [<matplotlib.lines.Line2D at 0x1893d809dd8>,\n",
       "  <matplotlib.lines.Line2D at 0x1893d813438>],\n",
       " 'caps': [<matplotlib.lines.Line2D at 0x1893d813710>,\n",
       "  <matplotlib.lines.Line2D at 0x1893d813a58>],\n",
       " 'boxes': [<matplotlib.lines.Line2D at 0x1893d809c88>],\n",
       " 'medians': [<matplotlib.lines.Line2D at 0x1893d813da0>],\n",
       " 'fliers': [<matplotlib.lines.Line2D at 0x1893d813e80>],\n",
       " 'means': []}"
      ]
     },
     "execution_count": 155,
     "metadata": {},
     "output_type": "execute_result"
    },
    {
     "data": {
      "image/png": "[encoded data removed]",
      "text/plain": [
       "<Figure size 432x288 with 1 Axes>"
      ]
     },
     "metadata": {
      "needs_background": "light"
     },
     "output_type": "display_data"
    }
   ],
   "source": [
    "# Outlier analysis for Principle Component 2\n",
    "# Plotting the box plot for the PC2\n",
    "plt.boxplot(pca_df2.PC2)"
   ]
  },
  {
   "cell_type": "markdown",
   "metadata": {},
   "source": [
    "- There isn't much values we don't remove the outliers of this components"
   ]
  },
  {
   "cell_type": "code",
   "execution_count": 156,
   "metadata": {},
   "outputs": [
    {
     "data": {
      "text/plain": [
       "{'whiskers': [<matplotlib.lines.Line2D at 0x1893d85bfd0>,\n",
       "  <matplotlib.lines.Line2D at 0x1893d85bf98>],\n",
       " 'caps': [<matplotlib.lines.Line2D at 0x1893d8666a0>,\n",
       "  <matplotlib.lines.Line2D at 0x1893d8669e8>],\n",
       " 'boxes': [<matplotlib.lines.Line2D at 0x1893d85bba8>],\n",
       " 'medians': [<matplotlib.lines.Line2D at 0x1893d866d30>],\n",
       " 'fliers': [<matplotlib.lines.Line2D at 0x1893d866e10>],\n",
       " 'means': []}"
      ]
     },
     "execution_count": 156,
     "metadata": {},
     "output_type": "execute_result"
    },
    {
     "data": {
      "image/png": "[encoded data removed]",
      "text/plain": [
       "<Figure size 432x288 with 1 Axes>"
      ]
     },
     "metadata": {
      "needs_background": "light"
     },
     "output_type": "display_data"
    }
   ],
   "source": [
    "# Outlier analysis for Principle Component 3\n",
    "# PLotting the box plot for PC3\n",
    "plt.boxplot(pca_df2.PC3)"
   ]
  },
  {
   "cell_type": "markdown",
   "metadata": {},
   "source": [
    "- Here we remove the outliers"
   ]
  },
  {
   "cell_type": "code",
   "execution_count": 157,
   "metadata": {},
   "outputs": [
    {
     "data": {
      "text/plain": [
       "{'whiskers': [<matplotlib.lines.Line2D at 0x1893d8b8b70>,\n",
       "  <matplotlib.lines.Line2D at 0x1893d8b8eb8>],\n",
       " 'caps': [<matplotlib.lines.Line2D at 0x1893d8b8f98>,\n",
       "  <matplotlib.lines.Line2D at 0x1893d8c3588>],\n",
       " 'boxes': [<matplotlib.lines.Line2D at 0x1893d8b8748>],\n",
       " 'medians': [<matplotlib.lines.Line2D at 0x1893d8c38d0>],\n",
       " 'fliers': [<matplotlib.lines.Line2D at 0x1893d8c3c18>],\n",
       " 'means': []}"
      ]
     },
     "execution_count": 157,
     "metadata": {},
     "output_type": "execute_result"
    },
    {
     "data": {
      "image/png": "[encoded data removed]",
      "text/plain": [
       "<Figure size 432x288 with 1 Axes>"
      ]
     },
     "metadata": {
      "needs_background": "light"
     },
     "output_type": "display_data"
    }
   ],
   "source": [
    "# Removing the outlier\n",
    "Q1 = pca_df2.PC3.quantile(0.05)\n",
    "Q3 = pca_df2.PC3.quantile(0.95)\n",
    "IQR = Q3 - Q1\n",
    "pca_df2 = pca_df2[(pca_df2.PC3 >= Q1) & (pca_df2.PC3 <= Q3)]\n",
    "plt.boxplot(pca_df2.PC3)"
   ]
  },
  {
   "cell_type": "code",
   "execution_count": 158,
   "metadata": {},
   "outputs": [
    {
     "data": {
      "text/plain": [
       "{'whiskers': [<matplotlib.lines.Line2D at 0x1893f51e470>,\n",
       "  <matplotlib.lines.Line2D at 0x1893f51e748>],\n",
       " 'caps': [<matplotlib.lines.Line2D at 0x1893f51ea90>,\n",
       "  <matplotlib.lines.Line2D at 0x1893f51edd8>],\n",
       " 'boxes': [<matplotlib.lines.Line2D at 0x1893f51e048>],\n",
       " 'medians': [<matplotlib.lines.Line2D at 0x1893f51eeb8>],\n",
       " 'fliers': [<matplotlib.lines.Line2D at 0x1893f5284a8>],\n",
       " 'means': []}"
      ]
     },
     "execution_count": 158,
     "metadata": {},
     "output_type": "execute_result"
    },
    {
     "data": {
      "image/png": "[encoded data removed]",
      "text/plain": [
       "<Figure size 432x288 with 1 Axes>"
      ]
     },
     "metadata": {
      "needs_background": "light"
     },
     "output_type": "display_data"
    }
   ],
   "source": [
    "# Outlier analysis for Principle Component 4\n",
    "# PLotting the box plot for PC4\n",
    "plt.boxplot(pca_df2.PC4)"
   ]
  },
  {
   "cell_type": "markdown",
   "metadata": {},
   "source": [
    "- Here we would remove the outlier"
   ]
  },
  {
   "cell_type": "code",
   "execution_count": 159,
   "metadata": {},
   "outputs": [
    {
     "data": {
      "text/plain": [
       "{'whiskers': [<matplotlib.lines.Line2D at 0x1893f56ee48>,\n",
       "  <matplotlib.lines.Line2D at 0x1893f577438>],\n",
       " 'caps': [<matplotlib.lines.Line2D at 0x1893f577780>,\n",
       "  <matplotlib.lines.Line2D at 0x1893f577ac8>],\n",
       " 'boxes': [<matplotlib.lines.Line2D at 0x1893f56ecf8>],\n",
       " 'medians': [<matplotlib.lines.Line2D at 0x1893f577e10>],\n",
       " 'fliers': [<matplotlib.lines.Line2D at 0x1893f577ef0>],\n",
       " 'means': []}"
      ]
     },
     "execution_count": 159,
     "metadata": {},
     "output_type": "execute_result"
    },
    {
     "data": {
      "image/png": "[encoded data removed]",
      "text/plain": [
       "<Figure size 432x288 with 1 Axes>"
      ]
     },
     "metadata": {
      "needs_background": "light"
     },
     "output_type": "display_data"
    }
   ],
   "source": [
    "# Removing the outlier\n",
    "Q1 = pca_df2.PC4.quantile(0.05)\n",
    "Q3 = pca_df2.PC4.quantile(0.90)\n",
    "IQR = Q3 - Q1\n",
    "pca_df2 = pca_df2[(pca_df2.PC4 >= Q1) & (pca_df2.PC4 <= Q3)]\n",
    "plt.boxplot(pca_df2.PC4)"
   ]
  },
  {
   "cell_type": "code",
   "execution_count": 160,
   "metadata": {},
   "outputs": [
    {
     "data": {
      "text/plain": [
       "(112, 4)"
      ]
     },
     "execution_count": 160,
     "metadata": {},
     "output_type": "execute_result"
    }
   ],
   "source": [
    "# shape of the data frame\n",
    "pca_df2.shape"
   ]
  },
  {
   "cell_type": "code",
   "execution_count": 161,
   "metadata": {},
   "outputs": [
    {
     "data": {
      "text/plain": [
       "PC1    0\n",
       "PC2    0\n",
       "PC3    0\n",
       "PC4    0\n",
       "dtype: int64"
      ]
     },
     "execution_count": 161,
     "metadata": {},
     "output_type": "execute_result"
    }
   ],
   "source": [
    "# Checking for the null value\n",
    "pca_df2.isnull().sum()"
   ]
  },
  {
   "cell_type": "markdown",
   "metadata": {},
   "source": [
    "- # Clustering"
   ]
  },
  {
   "cell_type": "code",
   "execution_count": 162,
   "metadata": {},
   "outputs": [],
   "source": [
    "# Calculating hopkin'ss statistic\n",
    "def hopkins(X):\n",
    "    d = X.shape[1]\n",
    "    #d = len(vars) # columns\n",
    "    n = len(X) # rows\n",
    "    m = int(0.1 * n) \n",
    "    nbrs = NearestNeighbors(n_neighbors=1).fit(X.values)\n",
    " \n",
    "    rand_X = sample(range(0, n, 1), m)\n",
    " \n",
    "    ujd = []\n",
    "    wjd = []\n",
    "    for j in range(0, m):\n",
    "        u_dist, _ = nbrs.kneighbors(uniform(np.amin(X,axis=0),np.amax(X,axis=0),d).reshape(1, -1), 2, return_distance=True)\n",
    "        ujd.append(u_dist[0][1])\n",
    "        w_dist, _ = nbrs.kneighbors(X.iloc[rand_X[j]].values.reshape(1, -1), 2, return_distance=True)\n",
    "        wjd.append(w_dist[0][1])\n",
    " \n",
    "    H = sum(ujd) / (sum(ujd) + sum(wjd))\n",
    "    if isnan(H):\n",
    "        print(ujd, wjd)\n",
    "        H = 0\n",
    " \n",
    "    return H"
   ]
  },
  {
   "cell_type": "code",
   "execution_count": 163,
   "metadata": {},
   "outputs": [
    {
     "data": {
      "text/plain": [
       "0.7532127219135009"
      ]
     },
     "execution_count": 163,
     "metadata": {},
     "output_type": "execute_result"
    }
   ],
   "source": [
    "#Let's check the Hopkins measure\n",
    "hopkins(pca_df2)"
   ]
  },
  {
   "cell_type": "markdown",
   "metadata": {},
   "source": [
    "- Since hopkins statistic is > 0.5, the given dataset has a good tendency to form the clusters."
   ]
  },
  {
   "cell_type": "markdown",
   "metadata": {},
   "source": [
    "- # K-Means Clustering"
   ]
  },
  {
   "cell_type": "code",
   "execution_count": 164,
   "metadata": {},
   "outputs": [],
   "source": [
    "df3 = pca_df2.copy()"
   ]
  },
  {
   "cell_type": "code",
   "execution_count": 165,
   "metadata": {},
   "outputs": [
    {
     "data": {
      "text/plain": [
       "KMeans(algorithm='auto', copy_x=True, init='k-means++', max_iter=50,\n",
       "    n_clusters=4, n_init=10, n_jobs=None, precompute_distances='auto',\n",
       "    random_state=50, tol=0.0001, verbose=0)"
      ]
     },
     "execution_count": 165,
     "metadata": {},
     "output_type": "execute_result"
    }
   ],
   "source": [
    "# let's calculate the k-means cluster with random k = 4\n",
    "k_model1 = KMeans(n_clusters = 4, max_iter=50,random_state = 50)\n",
    "k_model1.fit(df3)"
   ]
  },
  {
   "cell_type": "code",
   "execution_count": 166,
   "metadata": {},
   "outputs": [
    {
     "data": {
      "text/plain": [
       "array([2, 1, 1, 2, 1, 1, 0, 3, 3, 0, 1, 1, 1, 0, 0, 1, 0, 1, 1, 2, 0, 1,\n",
       "       1, 1, 1, 2, 2, 1, 1, 3, 3, 1, 1, 0, 1, 2, 2, 1, 0, 2, 2, 1, 2, 3,\n",
       "       1, 0, 2, 0, 0, 0, 1, 0, 3, 1, 0, 0, 0, 3, 0, 0, 1, 1, 2, 1, 1, 1,\n",
       "       2, 2, 1, 1, 2, 1, 0, 1, 1, 2, 0, 0, 0, 2, 1, 1, 1, 0, 1, 3, 1, 1,\n",
       "       0, 0, 1, 3, 3, 0, 0, 3, 1, 2, 1, 0, 2, 0, 1, 1, 0, 2, 3, 1, 0, 0,\n",
       "       2, 2])"
      ]
     },
     "execution_count": 166,
     "metadata": {},
     "output_type": "execute_result"
    }
   ],
   "source": [
    "#Checking the labels\n",
    "k_model1.labels_"
   ]
  },
  {
   "cell_type": "code",
   "execution_count": 167,
   "metadata": {},
   "outputs": [
    {
     "data": {
      "text/html": [
       "<div>\n",
       "<style scoped>\n",
       "    .dataframe tbody tr th:only-of-type {\n",
       "        vertical-align: middle;\n",
       "    }\n",
       "\n",
       "    .dataframe tbody tr th {\n",
       "        vertical-align: top;\n",
       "    }\n",
       "\n",
       "    .dataframe thead th {\n",
       "        text-align: right;\n",
       "    }\n",
       "</style>\n",
       "<table border=\"1\" class=\"dataframe\">\n",
       "  <thead>\n",
       "    <tr style=\"text-align: right;\">\n",
       "      <th></th>\n",
       "      <th>PC1</th>\n",
       "      <th>PC2</th>\n",
       "      <th>PC3</th>\n",
       "      <th>PC4</th>\n",
       "      <th>cluster_id</th>\n",
       "    </tr>\n",
       "  </thead>\n",
       "  <tbody>\n",
       "    <tr>\n",
       "      <th>0</th>\n",
       "      <td>-2.636647</td>\n",
       "      <td>1.472085</td>\n",
       "      <td>-0.546500</td>\n",
       "      <td>0.237267</td>\n",
       "      <td>2</td>\n",
       "    </tr>\n",
       "    <tr>\n",
       "      <th>1</th>\n",
       "      <td>-0.023845</td>\n",
       "      <td>-1.435816</td>\n",
       "      <td>-0.009080</td>\n",
       "      <td>-0.442921</td>\n",
       "      <td>1</td>\n",
       "    </tr>\n",
       "    <tr>\n",
       "      <th>2</th>\n",
       "      <td>-0.459260</td>\n",
       "      <td>-0.678794</td>\n",
       "      <td>0.967852</td>\n",
       "      <td>-0.176389</td>\n",
       "      <td>1</td>\n",
       "    </tr>\n",
       "    <tr>\n",
       "      <th>3</th>\n",
       "      <td>-2.723581</td>\n",
       "      <td>2.176018</td>\n",
       "      <td>0.597794</td>\n",
       "      <td>0.438919</td>\n",
       "      <td>2</td>\n",
       "    </tr>\n",
       "    <tr>\n",
       "      <th>4</th>\n",
       "      <td>0.648777</td>\n",
       "      <td>-1.026498</td>\n",
       "      <td>-0.244170</td>\n",
       "      <td>-0.267513</td>\n",
       "      <td>1</td>\n",
       "    </tr>\n",
       "  </tbody>\n",
       "</table>\n",
       "</div>"
      ],
      "text/plain": [
       "        PC1       PC2       PC3       PC4  cluster_id\n",
       "0 -2.636647  1.472085 -0.546500  0.237267           2\n",
       "1 -0.023845 -1.435816 -0.009080 -0.442921           1\n",
       "2 -0.459260 -0.678794  0.967852 -0.176389           1\n",
       "3 -2.723581  2.176018  0.597794  0.438919           2\n",
       "4  0.648777 -1.026498 -0.244170 -0.267513           1"
      ]
     },
     "execution_count": 167,
     "metadata": {},
     "output_type": "execute_result"
    }
   ],
   "source": [
    "#assigning the labels\n",
    "df4 = pca_df2.copy()\n",
    "df4['cluster_id'] = k_model1.labels_\n",
    "df4.head()"
   ]
  },
  {
   "cell_type": "code",
   "execution_count": 168,
   "metadata": {},
   "outputs": [
    {
     "data": {
      "text/plain": [
       "1    46\n",
       "0    32\n",
       "2    22\n",
       "3    12\n",
       "Name: cluster_id, dtype: int64"
      ]
     },
     "execution_count": 168,
     "metadata": {},
     "output_type": "execute_result"
    }
   ],
   "source": [
    "# value count\n",
    "df4['cluster_id'].value_counts()"
   ]
  },
  {
   "cell_type": "code",
   "execution_count": 169,
   "metadata": {},
   "outputs": [
    {
     "data": {
      "text/plain": [
       "<matplotlib.axes._subplots.AxesSubplot at 0x1893b2d0fd0>"
      ]
     },
     "execution_count": 169,
     "metadata": {},
     "output_type": "execute_result"
    },
    {
     "data": {
      "image/png": "[encoded data removed]",
      "text/plain": [
       "<Figure size 432x288 with 1 Axes>"
      ]
     },
     "metadata": {
      "needs_background": "light"
     },
     "output_type": "display_data"
    }
   ],
   "source": [
    "# PLotting the PC1 and PC2 to see the pattern\n",
    "sns.scatterplot(x='PC1',y='PC2',hue='cluster_id',legend='full',data=df4)"
   ]
  },
  {
   "cell_type": "code",
   "execution_count": 170,
   "metadata": {},
   "outputs": [
    {
     "name": "stdout",
     "output_type": "stream",
     "text": [
      "For n_clusters = 2, the silhouette score = 0.47163722882441445\n",
      "For n_clusters = 3, the silhouette score = 0.4126351587442703\n",
      "For n_clusters = 4, the silhouette score = 0.39883658619749834\n",
      "For n_clusters = 5, the silhouette score = 0.3499627812948559\n",
      "For n_clusters = 6, the silhouette score = 0.37199487326091335\n",
      "For n_clusters = 7, the silhouette score = 0.36506557370012027\n",
      "For n_clusters = 8, the silhouette score = 0.378654063594469\n"
     ]
    }
   ],
   "source": [
    "# Calculating the silhouette score to find the optimum number of clusters\n",
    "range_n_clusters = [2,3,4,5,6,7,8]\n",
    "for num_cluster in range_n_clusters:\n",
    "    kmeans = KMeans(n_clusters=num_cluster,max_iter=50)\n",
    "    kmeans.fit(df3)\n",
    "    cluster_labels = kmeans.labels_\n",
    "    silhouette_avg = silhouette_score(df3,cluster_labels)\n",
    "    print(\"For n_clusters = {0}, the silhouette score = {1}\".format(num_cluster,silhouette_avg))"
   ]
  },
  {
   "cell_type": "code",
   "execution_count": 212,
   "metadata": {},
   "outputs": [
    {
     "data": {
      "image/png": "[encoded data removed]",
      "text/plain": [
       "<Figure size 432x288 with 1 Axes>"
      ]
     },
     "metadata": {
      "needs_background": "light"
     },
     "output_type": "display_data"
    }
   ],
   "source": [
    "# plotting the silhoutte score\n",
    "from sklearn.metrics import silhouette_score\n",
    "sse_ = []\n",
    "for k in range(2, 10):\n",
    "    kmeans = KMeans(n_clusters=k).fit(df3)\n",
    "    sse_.append([k, silhouette_score(df3, kmeans.labels_)])\n",
    "plt.xlabel('Silhouette score')\n",
    "plt.ylabel('No.of cluster')\n",
    "plt.plot(pd.DataFrame(sse_)[0], pd.DataFrame(sse_)[1]);"
   ]
  },
  {
   "cell_type": "markdown",
   "metadata": {},
   "source": [
    "- From silhouette score method, optimum number of cluster = 2"
   ]
  },
  {
   "cell_type": "code",
   "execution_count": 213,
   "metadata": {},
   "outputs": [
    {
     "data": {
      "text/plain": [
       "[<matplotlib.lines.Line2D at 0x1893e054358>]"
      ]
     },
     "execution_count": 213,
     "metadata": {},
     "output_type": "execute_result"
    },
    {
     "data": {
      "image/png": "[encoded data removed]",
      "text/plain": [
       "<Figure size 432x288 with 1 Axes>"
      ]
     },
     "metadata": {
      "needs_background": "light"
     },
     "output_type": "display_data"
    }
   ],
   "source": [
    "# Plotting the elbow curve to find optimum number of clusters\n",
    "ssd = []\n",
    "range_n_clusters = [1,2,3,4,5,6,7,8]\n",
    "for num_cluster in range_n_clusters:\n",
    "    kmeans = KMeans(n_clusters=num_cluster, max_iter = 50).fit(df3)\n",
    "    ssd.append(kmeans.inertia_)\n",
    "plt.xlabel('Index of range of number of cluster form 1 to 8')\n",
    "plt.ylabel('SSD')\n",
    "plt.plot(ssd)"
   ]
  },
  {
   "cell_type": "markdown",
   "metadata": {},
   "source": [
    "- From elbo curve method optimum number of cluster = 2"
   ]
  },
  {
   "cell_type": "code",
   "execution_count": 173,
   "metadata": {},
   "outputs": [
    {
     "data": {
      "text/plain": [
       "KMeans(algorithm='auto', copy_x=True, init='k-means++', max_iter=50,\n",
       "    n_clusters=2, n_init=10, n_jobs=None, precompute_distances='auto',\n",
       "    random_state=50, tol=0.0001, verbose=0)"
      ]
     },
     "execution_count": 173,
     "metadata": {},
     "output_type": "execute_result"
    }
   ],
   "source": [
    "# Let's perform kmeans with k = 2\n",
    "k_model = KMeans(n_clusters = 2, max_iter=50,random_state = 50)\n",
    "k_model.fit(df3)"
   ]
  },
  {
   "cell_type": "code",
   "execution_count": 174,
   "metadata": {},
   "outputs": [
    {
     "data": {
      "text/plain": [
       "array([0, 1, 1, 0, 1, 1, 1, 1, 1, 1, 1, 1, 1, 1, 1, 1, 0, 1, 1, 0, 0, 1,\n",
       "       1, 1, 1, 0, 0, 1, 1, 1, 1, 1, 1, 1, 1, 0, 0, 1, 1, 0, 0, 1, 0, 1,\n",
       "       1, 1, 0, 1, 0, 1, 1, 0, 1, 1, 1, 1, 0, 1, 1, 0, 1, 1, 0, 1, 1, 1,\n",
       "       0, 0, 1, 1, 0, 1, 0, 1, 1, 0, 0, 0, 0, 0, 1, 1, 1, 1, 1, 1, 1, 1,\n",
       "       0, 1, 1, 1, 1, 0, 0, 1, 1, 0, 1, 0, 0, 1, 1, 1, 0, 0, 1, 1, 1, 0,\n",
       "       0, 0])"
      ]
     },
     "execution_count": 174,
     "metadata": {},
     "output_type": "execute_result"
    }
   ],
   "source": [
    "#Checking the labels\n",
    "k_model.labels_"
   ]
  },
  {
   "cell_type": "code",
   "execution_count": 175,
   "metadata": {},
   "outputs": [
    {
     "data": {
      "text/html": [
       "<div>\n",
       "<style scoped>\n",
       "    .dataframe tbody tr th:only-of-type {\n",
       "        vertical-align: middle;\n",
       "    }\n",
       "\n",
       "    .dataframe tbody tr th {\n",
       "        vertical-align: top;\n",
       "    }\n",
       "\n",
       "    .dataframe thead th {\n",
       "        text-align: right;\n",
       "    }\n",
       "</style>\n",
       "<table border=\"1\" class=\"dataframe\">\n",
       "  <thead>\n",
       "    <tr style=\"text-align: right;\">\n",
       "      <th></th>\n",
       "      <th>PC1</th>\n",
       "      <th>PC2</th>\n",
       "      <th>PC3</th>\n",
       "      <th>PC4</th>\n",
       "      <th>cluster_id</th>\n",
       "    </tr>\n",
       "  </thead>\n",
       "  <tbody>\n",
       "    <tr>\n",
       "      <th>0</th>\n",
       "      <td>-2.636647</td>\n",
       "      <td>1.472085</td>\n",
       "      <td>-0.546500</td>\n",
       "      <td>0.237267</td>\n",
       "      <td>0</td>\n",
       "    </tr>\n",
       "    <tr>\n",
       "      <th>1</th>\n",
       "      <td>-0.023845</td>\n",
       "      <td>-1.435816</td>\n",
       "      <td>-0.009080</td>\n",
       "      <td>-0.442921</td>\n",
       "      <td>1</td>\n",
       "    </tr>\n",
       "    <tr>\n",
       "      <th>2</th>\n",
       "      <td>-0.459260</td>\n",
       "      <td>-0.678794</td>\n",
       "      <td>0.967852</td>\n",
       "      <td>-0.176389</td>\n",
       "      <td>1</td>\n",
       "    </tr>\n",
       "    <tr>\n",
       "      <th>3</th>\n",
       "      <td>-2.723581</td>\n",
       "      <td>2.176018</td>\n",
       "      <td>0.597794</td>\n",
       "      <td>0.438919</td>\n",
       "      <td>0</td>\n",
       "    </tr>\n",
       "    <tr>\n",
       "      <th>4</th>\n",
       "      <td>0.648777</td>\n",
       "      <td>-1.026498</td>\n",
       "      <td>-0.244170</td>\n",
       "      <td>-0.267513</td>\n",
       "      <td>1</td>\n",
       "    </tr>\n",
       "  </tbody>\n",
       "</table>\n",
       "</div>"
      ],
      "text/plain": [
       "        PC1       PC2       PC3       PC4  cluster_id\n",
       "0 -2.636647  1.472085 -0.546500  0.237267           0\n",
       "1 -0.023845 -1.435816 -0.009080 -0.442921           1\n",
       "2 -0.459260 -0.678794  0.967852 -0.176389           1\n",
       "3 -2.723581  2.176018  0.597794  0.438919           0\n",
       "4  0.648777 -1.026498 -0.244170 -0.267513           1"
      ]
     },
     "execution_count": 175,
     "metadata": {},
     "output_type": "execute_result"
    }
   ],
   "source": [
    "#assigning the labels\n",
    "df5 = pca_df2.copy()\n",
    "df5['cluster_id'] = k_model.labels_\n",
    "df5.head()"
   ]
  },
  {
   "cell_type": "code",
   "execution_count": 176,
   "metadata": {},
   "outputs": [
    {
     "data": {
      "text/plain": [
       "1    74\n",
       "0    38\n",
       "Name: cluster_id, dtype: int64"
      ]
     },
     "execution_count": 176,
     "metadata": {},
     "output_type": "execute_result"
    }
   ],
   "source": [
    "# value count\n",
    "df5['cluster_id'].value_counts()"
   ]
  },
  {
   "cell_type": "code",
   "execution_count": 177,
   "metadata": {},
   "outputs": [
    {
     "data": {
      "text/plain": [
       "<matplotlib.axes._subplots.AxesSubplot at 0x1893f6c7780>"
      ]
     },
     "execution_count": 177,
     "metadata": {},
     "output_type": "execute_result"
    },
    {
     "data": {
      "image/png": "[encoded data removed]",
      "text/plain": [
       "<Figure size 432x288 with 1 Axes>"
      ]
     },
     "metadata": {
      "needs_background": "light"
     },
     "output_type": "display_data"
    }
   ],
   "source": [
    "# PLotting the PC1 and PC2 to see the pattern\n",
    "sns.scatterplot(x='PC1',y='PC2',hue='cluster_id',legend='full',data=df5)"
   ]
  },
  {
   "cell_type": "code",
   "execution_count": 217,
   "metadata": {},
   "outputs": [
    {
     "data": {
      "text/plain": [
       "<matplotlib.axes._subplots.AxesSubplot at 0x1893f404b70>"
      ]
     },
     "execution_count": 217,
     "metadata": {},
     "output_type": "execute_result"
    },
    {
     "data": {
      "image/png": "[encoded data removed]",
      "text/plain": [
       "<Figure size 432x288 with 1 Axes>"
      ]
     },
     "metadata": {
      "needs_background": "light"
     },
     "output_type": "display_data"
    }
   ],
   "source": [
    "# PLotting the PC1 and PC3 to see the pattern\n",
    "sns.scatterplot(x='PC1',y='PC3',hue='cluster_id',legend='full',data=df5)"
   ]
  },
  {
   "cell_type": "code",
   "execution_count": 178,
   "metadata": {},
   "outputs": [
    {
     "data": {
      "text/html": [
       "<div>\n",
       "<style scoped>\n",
       "    .dataframe tbody tr th:only-of-type {\n",
       "        vertical-align: middle;\n",
       "    }\n",
       "\n",
       "    .dataframe tbody tr th {\n",
       "        vertical-align: top;\n",
       "    }\n",
       "\n",
       "    .dataframe thead th {\n",
       "        text-align: right;\n",
       "    }\n",
       "</style>\n",
       "<table border=\"1\" class=\"dataframe\">\n",
       "  <thead>\n",
       "    <tr style=\"text-align: right;\">\n",
       "      <th></th>\n",
       "      <th>country</th>\n",
       "      <th>child_mort</th>\n",
       "      <th>exports</th>\n",
       "      <th>health</th>\n",
       "      <th>imports</th>\n",
       "      <th>income</th>\n",
       "      <th>inflation</th>\n",
       "      <th>life_expec</th>\n",
       "      <th>total_fer</th>\n",
       "      <th>gdpp</th>\n",
       "      <th>PC1</th>\n",
       "      <th>PC2</th>\n",
       "      <th>PC3</th>\n",
       "      <th>PC4</th>\n",
       "      <th>cluster_id</th>\n",
       "    </tr>\n",
       "  </thead>\n",
       "  <tbody>\n",
       "    <tr>\n",
       "      <th>0</th>\n",
       "      <td>Afghanistan</td>\n",
       "      <td>90.2</td>\n",
       "      <td>55.30</td>\n",
       "      <td>41.9174</td>\n",
       "      <td>248.297</td>\n",
       "      <td>1610</td>\n",
       "      <td>9.44</td>\n",
       "      <td>56.2</td>\n",
       "      <td>5.82</td>\n",
       "      <td>553</td>\n",
       "      <td>-2.636647</td>\n",
       "      <td>1.472085</td>\n",
       "      <td>-0.546500</td>\n",
       "      <td>0.237267</td>\n",
       "      <td>0</td>\n",
       "    </tr>\n",
       "    <tr>\n",
       "      <th>1</th>\n",
       "      <td>Albania</td>\n",
       "      <td>16.6</td>\n",
       "      <td>1145.20</td>\n",
       "      <td>267.8950</td>\n",
       "      <td>1987.740</td>\n",
       "      <td>9930</td>\n",
       "      <td>4.49</td>\n",
       "      <td>76.3</td>\n",
       "      <td>1.65</td>\n",
       "      <td>4090</td>\n",
       "      <td>-0.023845</td>\n",
       "      <td>-1.435816</td>\n",
       "      <td>-0.009080</td>\n",
       "      <td>-0.442921</td>\n",
       "      <td>1</td>\n",
       "    </tr>\n",
       "    <tr>\n",
       "      <th>2</th>\n",
       "      <td>Algeria</td>\n",
       "      <td>27.3</td>\n",
       "      <td>1712.64</td>\n",
       "      <td>185.9820</td>\n",
       "      <td>1400.440</td>\n",
       "      <td>12900</td>\n",
       "      <td>16.10</td>\n",
       "      <td>76.5</td>\n",
       "      <td>2.89</td>\n",
       "      <td>4460</td>\n",
       "      <td>-0.459260</td>\n",
       "      <td>-0.678794</td>\n",
       "      <td>0.967852</td>\n",
       "      <td>-0.176389</td>\n",
       "      <td>1</td>\n",
       "    </tr>\n",
       "    <tr>\n",
       "      <th>3</th>\n",
       "      <td>Angola</td>\n",
       "      <td>119.0</td>\n",
       "      <td>2199.19</td>\n",
       "      <td>100.6050</td>\n",
       "      <td>1514.370</td>\n",
       "      <td>5900</td>\n",
       "      <td>22.40</td>\n",
       "      <td>60.1</td>\n",
       "      <td>6.16</td>\n",
       "      <td>3530</td>\n",
       "      <td>-2.723581</td>\n",
       "      <td>2.176018</td>\n",
       "      <td>0.597794</td>\n",
       "      <td>0.438919</td>\n",
       "      <td>0</td>\n",
       "    </tr>\n",
       "    <tr>\n",
       "      <th>4</th>\n",
       "      <td>Antigua and Barbuda</td>\n",
       "      <td>10.3</td>\n",
       "      <td>5551.00</td>\n",
       "      <td>735.6600</td>\n",
       "      <td>7185.800</td>\n",
       "      <td>19100</td>\n",
       "      <td>1.44</td>\n",
       "      <td>76.8</td>\n",
       "      <td>2.13</td>\n",
       "      <td>12200</td>\n",
       "      <td>0.648777</td>\n",
       "      <td>-1.026498</td>\n",
       "      <td>-0.244170</td>\n",
       "      <td>-0.267513</td>\n",
       "      <td>1</td>\n",
       "    </tr>\n",
       "  </tbody>\n",
       "</table>\n",
       "</div>"
      ],
      "text/plain": [
       "               country  child_mort  exports    health   imports  income  \\\n",
       "0          Afghanistan        90.2    55.30   41.9174   248.297    1610   \n",
       "1              Albania        16.6  1145.20  267.8950  1987.740    9930   \n",
       "2              Algeria        27.3  1712.64  185.9820  1400.440   12900   \n",
       "3               Angola       119.0  2199.19  100.6050  1514.370    5900   \n",
       "4  Antigua and Barbuda        10.3  5551.00  735.6600  7185.800   19100   \n",
       "\n",
       "   inflation  life_expec  total_fer   gdpp       PC1       PC2       PC3  \\\n",
       "0       9.44        56.2       5.82    553 -2.636647  1.472085 -0.546500   \n",
       "1       4.49        76.3       1.65   4090 -0.023845 -1.435816 -0.009080   \n",
       "2      16.10        76.5       2.89   4460 -0.459260 -0.678794  0.967852   \n",
       "3      22.40        60.1       6.16   3530 -2.723581  2.176018  0.597794   \n",
       "4       1.44        76.8       2.13  12200  0.648777 -1.026498 -0.244170   \n",
       "\n",
       "        PC4  cluster_id  \n",
       "0  0.237267           0  \n",
       "1 -0.442921           1  \n",
       "2 -0.176389           1  \n",
       "3  0.438919           0  \n",
       "4 -0.267513           1  "
      ]
     },
     "execution_count": 178,
     "metadata": {},
     "output_type": "execute_result"
    }
   ],
   "source": [
    "# Merging the original dataset with this one.\n",
    "df6=pd.merge(country,df5, left_index=True,right_index=True)\n",
    "df6.head()"
   ]
  },
  {
   "cell_type": "code",
   "execution_count": 179,
   "metadata": {},
   "outputs": [
    {
     "data": {
      "text/html": [
       "<div>\n",
       "<style scoped>\n",
       "    .dataframe tbody tr th:only-of-type {\n",
       "        vertical-align: middle;\n",
       "    }\n",
       "\n",
       "    .dataframe tbody tr th {\n",
       "        vertical-align: top;\n",
       "    }\n",
       "\n",
       "    .dataframe thead th {\n",
       "        text-align: right;\n",
       "    }\n",
       "</style>\n",
       "<table border=\"1\" class=\"dataframe\">\n",
       "  <thead>\n",
       "    <tr style=\"text-align: right;\">\n",
       "      <th></th>\n",
       "      <th>country</th>\n",
       "      <th>child_mort</th>\n",
       "      <th>exports</th>\n",
       "      <th>health</th>\n",
       "      <th>imports</th>\n",
       "      <th>income</th>\n",
       "      <th>inflation</th>\n",
       "      <th>life_expec</th>\n",
       "      <th>total_fer</th>\n",
       "      <th>gdpp</th>\n",
       "      <th>cluster_id</th>\n",
       "    </tr>\n",
       "  </thead>\n",
       "  <tbody>\n",
       "    <tr>\n",
       "      <th>0</th>\n",
       "      <td>Afghanistan</td>\n",
       "      <td>90.2</td>\n",
       "      <td>55.30</td>\n",
       "      <td>41.9174</td>\n",
       "      <td>248.297</td>\n",
       "      <td>1610</td>\n",
       "      <td>9.44</td>\n",
       "      <td>56.2</td>\n",
       "      <td>5.82</td>\n",
       "      <td>553</td>\n",
       "      <td>0</td>\n",
       "    </tr>\n",
       "    <tr>\n",
       "      <th>1</th>\n",
       "      <td>Albania</td>\n",
       "      <td>16.6</td>\n",
       "      <td>1145.20</td>\n",
       "      <td>267.8950</td>\n",
       "      <td>1987.740</td>\n",
       "      <td>9930</td>\n",
       "      <td>4.49</td>\n",
       "      <td>76.3</td>\n",
       "      <td>1.65</td>\n",
       "      <td>4090</td>\n",
       "      <td>1</td>\n",
       "    </tr>\n",
       "    <tr>\n",
       "      <th>2</th>\n",
       "      <td>Algeria</td>\n",
       "      <td>27.3</td>\n",
       "      <td>1712.64</td>\n",
       "      <td>185.9820</td>\n",
       "      <td>1400.440</td>\n",
       "      <td>12900</td>\n",
       "      <td>16.10</td>\n",
       "      <td>76.5</td>\n",
       "      <td>2.89</td>\n",
       "      <td>4460</td>\n",
       "      <td>1</td>\n",
       "    </tr>\n",
       "    <tr>\n",
       "      <th>3</th>\n",
       "      <td>Angola</td>\n",
       "      <td>119.0</td>\n",
       "      <td>2199.19</td>\n",
       "      <td>100.6050</td>\n",
       "      <td>1514.370</td>\n",
       "      <td>5900</td>\n",
       "      <td>22.40</td>\n",
       "      <td>60.1</td>\n",
       "      <td>6.16</td>\n",
       "      <td>3530</td>\n",
       "      <td>0</td>\n",
       "    </tr>\n",
       "    <tr>\n",
       "      <th>4</th>\n",
       "      <td>Antigua and Barbuda</td>\n",
       "      <td>10.3</td>\n",
       "      <td>5551.00</td>\n",
       "      <td>735.6600</td>\n",
       "      <td>7185.800</td>\n",
       "      <td>19100</td>\n",
       "      <td>1.44</td>\n",
       "      <td>76.8</td>\n",
       "      <td>2.13</td>\n",
       "      <td>12200</td>\n",
       "      <td>1</td>\n",
       "    </tr>\n",
       "  </tbody>\n",
       "</table>\n",
       "</div>"
      ],
      "text/plain": [
       "               country  child_mort  exports    health   imports  income  \\\n",
       "0          Afghanistan        90.2    55.30   41.9174   248.297    1610   \n",
       "1              Albania        16.6  1145.20  267.8950  1987.740    9930   \n",
       "2              Algeria        27.3  1712.64  185.9820  1400.440   12900   \n",
       "3               Angola       119.0  2199.19  100.6050  1514.370    5900   \n",
       "4  Antigua and Barbuda        10.3  5551.00  735.6600  7185.800   19100   \n",
       "\n",
       "   inflation  life_expec  total_fer   gdpp  cluster_id  \n",
       "0       9.44        56.2       5.82    553           0  \n",
       "1       4.49        76.3       1.65   4090           1  \n",
       "2      16.10        76.5       2.89   4460           1  \n",
       "3      22.40        60.1       6.16   3530           0  \n",
       "4       1.44        76.8       2.13  12200           1  "
      ]
     },
     "execution_count": 179,
     "metadata": {},
     "output_type": "execute_result"
    }
   ],
   "source": [
    "# Dropping the cloumns containing the Principle Components\n",
    "df6=df6.drop(['PC1','PC2','PC3','PC4'],axis=1)\n",
    "df6.head()"
   ]
  },
  {
   "cell_type": "markdown",
   "metadata": {},
   "source": [
    "- # Hierarachical Clustering"
   ]
  },
  {
   "cell_type": "code",
   "execution_count": 180,
   "metadata": {},
   "outputs": [],
   "source": [
    "df7 = pca_df2.copy()"
   ]
  },
  {
   "cell_type": "code",
   "execution_count": 181,
   "metadata": {},
   "outputs": [
    {
     "data": {
      "text/html": [
       "<div>\n",
       "<style scoped>\n",
       "    .dataframe tbody tr th:only-of-type {\n",
       "        vertical-align: middle;\n",
       "    }\n",
       "\n",
       "    .dataframe tbody tr th {\n",
       "        vertical-align: top;\n",
       "    }\n",
       "\n",
       "    .dataframe thead th {\n",
       "        text-align: right;\n",
       "    }\n",
       "</style>\n",
       "<table border=\"1\" class=\"dataframe\">\n",
       "  <thead>\n",
       "    <tr style=\"text-align: right;\">\n",
       "      <th></th>\n",
       "      <th>PC1</th>\n",
       "      <th>PC2</th>\n",
       "      <th>PC3</th>\n",
       "      <th>PC4</th>\n",
       "    </tr>\n",
       "  </thead>\n",
       "  <tbody>\n",
       "    <tr>\n",
       "      <th>0</th>\n",
       "      <td>-2.636647</td>\n",
       "      <td>1.472085</td>\n",
       "      <td>-0.546500</td>\n",
       "      <td>0.237267</td>\n",
       "    </tr>\n",
       "    <tr>\n",
       "      <th>1</th>\n",
       "      <td>-0.023845</td>\n",
       "      <td>-1.435816</td>\n",
       "      <td>-0.009080</td>\n",
       "      <td>-0.442921</td>\n",
       "    </tr>\n",
       "    <tr>\n",
       "      <th>2</th>\n",
       "      <td>-0.459260</td>\n",
       "      <td>-0.678794</td>\n",
       "      <td>0.967852</td>\n",
       "      <td>-0.176389</td>\n",
       "    </tr>\n",
       "    <tr>\n",
       "      <th>3</th>\n",
       "      <td>-2.723581</td>\n",
       "      <td>2.176018</td>\n",
       "      <td>0.597794</td>\n",
       "      <td>0.438919</td>\n",
       "    </tr>\n",
       "    <tr>\n",
       "      <th>4</th>\n",
       "      <td>0.648777</td>\n",
       "      <td>-1.026498</td>\n",
       "      <td>-0.244170</td>\n",
       "      <td>-0.267513</td>\n",
       "    </tr>\n",
       "  </tbody>\n",
       "</table>\n",
       "</div>"
      ],
      "text/plain": [
       "        PC1       PC2       PC3       PC4\n",
       "0 -2.636647  1.472085 -0.546500  0.237267\n",
       "1 -0.023845 -1.435816 -0.009080 -0.442921\n",
       "2 -0.459260 -0.678794  0.967852 -0.176389\n",
       "3 -2.723581  2.176018  0.597794  0.438919\n",
       "4  0.648777 -1.026498 -0.244170 -0.267513"
      ]
     },
     "execution_count": 181,
     "metadata": {},
     "output_type": "execute_result"
    }
   ],
   "source": [
    "df7.head()"
   ]
  },
  {
   "cell_type": "markdown",
   "metadata": {},
   "source": [
    "- Single Linkage"
   ]
  },
  {
   "cell_type": "code",
   "execution_count": 182,
   "metadata": {},
   "outputs": [],
   "source": [
    "# Making a hierarachical clustering\n",
    "mergings1 = linkage(df7,method = 'single',metric = 'euclidean')"
   ]
  },
  {
   "cell_type": "code",
   "execution_count": 183,
   "metadata": {},
   "outputs": [
    {
     "data": {
      "image/png": "[encoded data removed]",
      "text/plain": [
       "<Figure size 1440x576 with 1 Axes>"
      ]
     },
     "metadata": {
      "needs_background": "light"
     },
     "output_type": "display_data"
    }
   ],
   "source": [
    "# plotting the dendrogram\n",
    "plt.figure(figsize=(20,8))\n",
    "dendrogram(mergings1)\n",
    "plt.show()"
   ]
  },
  {
   "cell_type": "markdown",
   "metadata": {},
   "source": [
    "- Complete Linkage"
   ]
  },
  {
   "cell_type": "code",
   "execution_count": 184,
   "metadata": {},
   "outputs": [],
   "source": [
    "# Making a hierarachical clustering\n",
    "mergings2 = linkage(df7,method = 'complete',metric = 'euclidean')"
   ]
  },
  {
   "cell_type": "code",
   "execution_count": 185,
   "metadata": {},
   "outputs": [
    {
     "data": {
      "image/png": "[encoded data removed]",
      "text/plain": [
       "<Figure size 1440x576 with 1 Axes>"
      ]
     },
     "metadata": {
      "needs_background": "light"
     },
     "output_type": "display_data"
    }
   ],
   "source": [
    "# plotting the dendrogram\n",
    "plt.figure(figsize=(20,8))\n",
    "dendrogram(mergings2)\n",
    "plt.show()"
   ]
  },
  {
   "cell_type": "markdown",
   "metadata": {},
   "source": [
    "- Complete linkage is much better than single linkage\n",
    "- From both the linkage graph its clear to have 3 clusters"
   ]
  },
  {
   "cell_type": "code",
   "execution_count": 186,
   "metadata": {},
   "outputs": [
    {
     "data": {
      "text/plain": [
       "array([0, 1, 1, 0, 1, 1, 1, 2, 2, 1, 1, 1, 1, 1, 1, 1, 0, 1, 1, 0, 1, 1,\n",
       "       1, 1, 1, 0, 0, 1, 1, 2, 2, 1, 1, 1, 1, 0, 0, 1, 1, 0, 0, 1, 0, 2,\n",
       "       1, 1, 0, 1, 1, 1, 1, 0, 2, 1, 1, 1, 0, 2, 1, 0, 1, 1, 0, 1, 1, 1,\n",
       "       0, 0, 1, 1, 0, 1, 1, 1, 1, 0, 1, 0, 1, 0, 1, 1, 1, 1, 1, 2, 1, 1,\n",
       "       0, 1, 1, 2, 2, 0, 0, 2, 1, 0, 1, 1, 0, 1, 1, 1, 1, 0, 2, 1, 1, 1,\n",
       "       0, 0])"
      ]
     },
     "execution_count": 186,
     "metadata": {},
     "output_type": "execute_result"
    }
   ],
   "source": [
    "# clustering with 3 clusters\n",
    "cluster_labels = cut_tree(mergings2,n_clusters = 3).reshape(-1,)\n",
    "cluster_labels"
   ]
  },
  {
   "cell_type": "code",
   "execution_count": 187,
   "metadata": {},
   "outputs": [
    {
     "data": {
      "text/html": [
       "<div>\n",
       "<style scoped>\n",
       "    .dataframe tbody tr th:only-of-type {\n",
       "        vertical-align: middle;\n",
       "    }\n",
       "\n",
       "    .dataframe tbody tr th {\n",
       "        vertical-align: top;\n",
       "    }\n",
       "\n",
       "    .dataframe thead th {\n",
       "        text-align: right;\n",
       "    }\n",
       "</style>\n",
       "<table border=\"1\" class=\"dataframe\">\n",
       "  <thead>\n",
       "    <tr style=\"text-align: right;\">\n",
       "      <th></th>\n",
       "      <th>PC1</th>\n",
       "      <th>PC2</th>\n",
       "      <th>PC3</th>\n",
       "      <th>PC4</th>\n",
       "      <th>cluster_labels</th>\n",
       "    </tr>\n",
       "  </thead>\n",
       "  <tbody>\n",
       "    <tr>\n",
       "      <th>0</th>\n",
       "      <td>-2.636647</td>\n",
       "      <td>1.472085</td>\n",
       "      <td>-0.546500</td>\n",
       "      <td>0.237267</td>\n",
       "      <td>0</td>\n",
       "    </tr>\n",
       "    <tr>\n",
       "      <th>1</th>\n",
       "      <td>-0.023845</td>\n",
       "      <td>-1.435816</td>\n",
       "      <td>-0.009080</td>\n",
       "      <td>-0.442921</td>\n",
       "      <td>1</td>\n",
       "    </tr>\n",
       "    <tr>\n",
       "      <th>2</th>\n",
       "      <td>-0.459260</td>\n",
       "      <td>-0.678794</td>\n",
       "      <td>0.967852</td>\n",
       "      <td>-0.176389</td>\n",
       "      <td>1</td>\n",
       "    </tr>\n",
       "    <tr>\n",
       "      <th>3</th>\n",
       "      <td>-2.723581</td>\n",
       "      <td>2.176018</td>\n",
       "      <td>0.597794</td>\n",
       "      <td>0.438919</td>\n",
       "      <td>0</td>\n",
       "    </tr>\n",
       "    <tr>\n",
       "      <th>4</th>\n",
       "      <td>0.648777</td>\n",
       "      <td>-1.026498</td>\n",
       "      <td>-0.244170</td>\n",
       "      <td>-0.267513</td>\n",
       "      <td>1</td>\n",
       "    </tr>\n",
       "  </tbody>\n",
       "</table>\n",
       "</div>"
      ],
      "text/plain": [
       "        PC1       PC2       PC3       PC4  cluster_labels\n",
       "0 -2.636647  1.472085 -0.546500  0.237267               0\n",
       "1 -0.023845 -1.435816 -0.009080 -0.442921               1\n",
       "2 -0.459260 -0.678794  0.967852 -0.176389               1\n",
       "3 -2.723581  2.176018  0.597794  0.438919               0\n",
       "4  0.648777 -1.026498 -0.244170 -0.267513               1"
      ]
     },
     "execution_count": 187,
     "metadata": {},
     "output_type": "execute_result"
    }
   ],
   "source": [
    "#assigning the cluster labels\n",
    "df7['cluster_labels']=cluster_labels\n",
    "df7.head()"
   ]
  },
  {
   "cell_type": "code",
   "execution_count": 188,
   "metadata": {},
   "outputs": [
    {
     "data": {
      "text/plain": [
       "1    70\n",
       "0    30\n",
       "2    12\n",
       "Name: cluster_labels, dtype: int64"
      ]
     },
     "execution_count": 188,
     "metadata": {},
     "output_type": "execute_result"
    }
   ],
   "source": [
    "# value count\n",
    "df7['cluster_labels'].value_counts()"
   ]
  },
  {
   "cell_type": "code",
   "execution_count": 189,
   "metadata": {},
   "outputs": [
    {
     "data": {
      "text/plain": [
       "<matplotlib.axes._subplots.AxesSubplot at 0x1893f992390>"
      ]
     },
     "execution_count": 189,
     "metadata": {},
     "output_type": "execute_result"
    },
    {
     "data": {
      "image/png": "[encoded data removed]",
      "text/plain": [
       "<Figure size 432x288 with 1 Axes>"
      ]
     },
     "metadata": {
      "needs_background": "light"
     },
     "output_type": "display_data"
    }
   ],
   "source": [
    "# PLotting the PC1 and PC2 to see the pattern\n",
    "sns.scatterplot(x='PC1',y='PC2',hue='cluster_labels',legend='full',data=df7)"
   ]
  },
  {
   "cell_type": "code",
   "execution_count": 219,
   "metadata": {},
   "outputs": [
    {
     "data": {
      "text/plain": [
       "<matplotlib.axes._subplots.AxesSubplot at 0x1893f4b5438>"
      ]
     },
     "execution_count": 219,
     "metadata": {},
     "output_type": "execute_result"
    },
    {
     "data": {
      "image/png": "[encoded data removed]",
      "text/plain": [
       "<Figure size 432x288 with 1 Axes>"
      ]
     },
     "metadata": {
      "needs_background": "light"
     },
     "output_type": "display_data"
    }
   ],
   "source": [
    "# PLotting the PC1 and PC3 to see the pattern\n",
    "sns.scatterplot(x='PC1',y='PC4',hue='cluster_labels',legend='full',data=df7)"
   ]
  },
  {
   "cell_type": "code",
   "execution_count": 220,
   "metadata": {},
   "outputs": [
    {
     "data": {
      "text/plain": [
       "<mpl_toolkits.mplot3d.art3d.Path3DCollection at 0x1893fa84dd8>"
      ]
     },
     "execution_count": 220,
     "metadata": {},
     "output_type": "execute_result"
    },
    {
     "data": {
      "image/png": "[encoded data removed]",
      "text/plain": [
       "<Figure size 576x576 with 1 Axes>"
      ]
     },
     "metadata": {
      "needs_background": "light"
     },
     "output_type": "display_data"
    }
   ],
   "source": [
    "# Plotting PC1, PC2 and PC3 to see the pattern\n",
    "%matplotlib inline\n",
    "from mpl_toolkits.mplot3d import Axes3D\n",
    "fig = plt.figure(figsize=(8,8))\n",
    "ax = Axes3D(fig)\n",
    "# ax = plt.axes(projection='3d')\n",
    "ax.scatter(df7['PC1'], df7['PC2'], df7['PC3'], c=df7['cluster_labels'].map({0:'green',1:'red',2:'blue'}))"
   ]
  },
  {
   "cell_type": "code",
   "execution_count": 191,
   "metadata": {},
   "outputs": [
    {
     "data": {
      "text/plain": [
       "<matplotlib.axes._subplots.AxesSubplot at 0x1893f981358>"
      ]
     },
     "execution_count": 191,
     "metadata": {},
     "output_type": "execute_result"
    },
    {
     "data": {
      "image/png": "[encoded data removed]",
      "text/plain": [
       "<Figure size 432x288 with 1 Axes>"
      ]
     },
     "metadata": {
      "needs_background": "light"
     },
     "output_type": "display_data"
    }
   ],
   "source": [
    "# plot\n",
    "sns.boxplot(x='cluster_labels', y='PC1', data=df7)"
   ]
  },
  {
   "cell_type": "code",
   "execution_count": 192,
   "metadata": {},
   "outputs": [
    {
     "data": {
      "text/plain": [
       "<matplotlib.axes._subplots.AxesSubplot at 0x1893f9696d8>"
      ]
     },
     "execution_count": 192,
     "metadata": {},
     "output_type": "execute_result"
    },
    {
     "data": {
      "image/png": "[encoded data removed]",
      "text/plain": [
       "<Figure size 432x288 with 1 Axes>"
      ]
     },
     "metadata": {
      "needs_background": "light"
     },
     "output_type": "display_data"
    }
   ],
   "source": [
    "# plot\n",
    "sns.boxplot(x='cluster_labels', y='PC2', data=df7)"
   ]
  },
  {
   "cell_type": "code",
   "execution_count": 193,
   "metadata": {},
   "outputs": [
    {
     "data": {
      "text/plain": [
       "<matplotlib.axes._subplots.AxesSubplot at 0x1893f20ee48>"
      ]
     },
     "execution_count": 193,
     "metadata": {},
     "output_type": "execute_result"
    },
    {
     "data": {
      "image/png": "[encoded data removed]",
      "text/plain": [
       "<Figure size 432x288 with 1 Axes>"
      ]
     },
     "metadata": {
      "needs_background": "light"
     },
     "output_type": "display_data"
    }
   ],
   "source": [
    "# plot\n",
    "sns.boxplot(x='cluster_labels', y='PC3', data=df7)"
   ]
  },
  {
   "cell_type": "code",
   "execution_count": 194,
   "metadata": {},
   "outputs": [
    {
     "data": {
      "text/plain": [
       "<matplotlib.axes._subplots.AxesSubplot at 0x1893c091a58>"
      ]
     },
     "execution_count": 194,
     "metadata": {},
     "output_type": "execute_result"
    },
    {
     "data": {
      "image/png": "[encoded data removed]",
      "text/plain": [
       "<Figure size 432x288 with 1 Axes>"
      ]
     },
     "metadata": {
      "needs_background": "light"
     },
     "output_type": "display_data"
    }
   ],
   "source": [
    "# plot\n",
    "sns.boxplot(x='cluster_labels', y='PC4', data=df7)"
   ]
  },
  {
   "cell_type": "code",
   "execution_count": 195,
   "metadata": {},
   "outputs": [
    {
     "data": {
      "text/html": [
       "<div>\n",
       "<style scoped>\n",
       "    .dataframe tbody tr th:only-of-type {\n",
       "        vertical-align: middle;\n",
       "    }\n",
       "\n",
       "    .dataframe tbody tr th {\n",
       "        vertical-align: top;\n",
       "    }\n",
       "\n",
       "    .dataframe thead th {\n",
       "        text-align: right;\n",
       "    }\n",
       "</style>\n",
       "<table border=\"1\" class=\"dataframe\">\n",
       "  <thead>\n",
       "    <tr style=\"text-align: right;\">\n",
       "      <th></th>\n",
       "      <th>country</th>\n",
       "      <th>child_mort</th>\n",
       "      <th>exports</th>\n",
       "      <th>health</th>\n",
       "      <th>imports</th>\n",
       "      <th>income</th>\n",
       "      <th>inflation</th>\n",
       "      <th>life_expec</th>\n",
       "      <th>total_fer</th>\n",
       "      <th>gdpp</th>\n",
       "      <th>PC1</th>\n",
       "      <th>PC2</th>\n",
       "      <th>PC3</th>\n",
       "      <th>PC4</th>\n",
       "      <th>cluster_labels</th>\n",
       "    </tr>\n",
       "  </thead>\n",
       "  <tbody>\n",
       "    <tr>\n",
       "      <th>0</th>\n",
       "      <td>Afghanistan</td>\n",
       "      <td>90.2</td>\n",
       "      <td>55.30</td>\n",
       "      <td>41.9174</td>\n",
       "      <td>248.297</td>\n",
       "      <td>1610</td>\n",
       "      <td>9.44</td>\n",
       "      <td>56.2</td>\n",
       "      <td>5.82</td>\n",
       "      <td>553</td>\n",
       "      <td>-2.636647</td>\n",
       "      <td>1.472085</td>\n",
       "      <td>-0.546500</td>\n",
       "      <td>0.237267</td>\n",
       "      <td>0</td>\n",
       "    </tr>\n",
       "    <tr>\n",
       "      <th>1</th>\n",
       "      <td>Albania</td>\n",
       "      <td>16.6</td>\n",
       "      <td>1145.20</td>\n",
       "      <td>267.8950</td>\n",
       "      <td>1987.740</td>\n",
       "      <td>9930</td>\n",
       "      <td>4.49</td>\n",
       "      <td>76.3</td>\n",
       "      <td>1.65</td>\n",
       "      <td>4090</td>\n",
       "      <td>-0.023845</td>\n",
       "      <td>-1.435816</td>\n",
       "      <td>-0.009080</td>\n",
       "      <td>-0.442921</td>\n",
       "      <td>1</td>\n",
       "    </tr>\n",
       "    <tr>\n",
       "      <th>2</th>\n",
       "      <td>Algeria</td>\n",
       "      <td>27.3</td>\n",
       "      <td>1712.64</td>\n",
       "      <td>185.9820</td>\n",
       "      <td>1400.440</td>\n",
       "      <td>12900</td>\n",
       "      <td>16.10</td>\n",
       "      <td>76.5</td>\n",
       "      <td>2.89</td>\n",
       "      <td>4460</td>\n",
       "      <td>-0.459260</td>\n",
       "      <td>-0.678794</td>\n",
       "      <td>0.967852</td>\n",
       "      <td>-0.176389</td>\n",
       "      <td>1</td>\n",
       "    </tr>\n",
       "    <tr>\n",
       "      <th>3</th>\n",
       "      <td>Angola</td>\n",
       "      <td>119.0</td>\n",
       "      <td>2199.19</td>\n",
       "      <td>100.6050</td>\n",
       "      <td>1514.370</td>\n",
       "      <td>5900</td>\n",
       "      <td>22.40</td>\n",
       "      <td>60.1</td>\n",
       "      <td>6.16</td>\n",
       "      <td>3530</td>\n",
       "      <td>-2.723581</td>\n",
       "      <td>2.176018</td>\n",
       "      <td>0.597794</td>\n",
       "      <td>0.438919</td>\n",
       "      <td>0</td>\n",
       "    </tr>\n",
       "    <tr>\n",
       "      <th>4</th>\n",
       "      <td>Antigua and Barbuda</td>\n",
       "      <td>10.3</td>\n",
       "      <td>5551.00</td>\n",
       "      <td>735.6600</td>\n",
       "      <td>7185.800</td>\n",
       "      <td>19100</td>\n",
       "      <td>1.44</td>\n",
       "      <td>76.8</td>\n",
       "      <td>2.13</td>\n",
       "      <td>12200</td>\n",
       "      <td>0.648777</td>\n",
       "      <td>-1.026498</td>\n",
       "      <td>-0.244170</td>\n",
       "      <td>-0.267513</td>\n",
       "      <td>1</td>\n",
       "    </tr>\n",
       "  </tbody>\n",
       "</table>\n",
       "</div>"
      ],
      "text/plain": [
       "               country  child_mort  exports    health   imports  income  \\\n",
       "0          Afghanistan        90.2    55.30   41.9174   248.297    1610   \n",
       "1              Albania        16.6  1145.20  267.8950  1987.740    9930   \n",
       "2              Algeria        27.3  1712.64  185.9820  1400.440   12900   \n",
       "3               Angola       119.0  2199.19  100.6050  1514.370    5900   \n",
       "4  Antigua and Barbuda        10.3  5551.00  735.6600  7185.800   19100   \n",
       "\n",
       "   inflation  life_expec  total_fer   gdpp       PC1       PC2       PC3  \\\n",
       "0       9.44        56.2       5.82    553 -2.636647  1.472085 -0.546500   \n",
       "1       4.49        76.3       1.65   4090 -0.023845 -1.435816 -0.009080   \n",
       "2      16.10        76.5       2.89   4460 -0.459260 -0.678794  0.967852   \n",
       "3      22.40        60.1       6.16   3530 -2.723581  2.176018  0.597794   \n",
       "4       1.44        76.8       2.13  12200  0.648777 -1.026498 -0.244170   \n",
       "\n",
       "        PC4  cluster_labels  \n",
       "0  0.237267               0  \n",
       "1 -0.442921               1  \n",
       "2 -0.176389               1  \n",
       "3  0.438919               0  \n",
       "4 -0.267513               1  "
      ]
     },
     "execution_count": 195,
     "metadata": {},
     "output_type": "execute_result"
    }
   ],
   "source": [
    "# Merging the original dataset with this one.\n",
    "df8=pd.merge(country,df7, left_index=True,right_index=True)\n",
    "df8.head()"
   ]
  },
  {
   "cell_type": "code",
   "execution_count": 196,
   "metadata": {},
   "outputs": [
    {
     "data": {
      "text/html": [
       "<div>\n",
       "<style scoped>\n",
       "    .dataframe tbody tr th:only-of-type {\n",
       "        vertical-align: middle;\n",
       "    }\n",
       "\n",
       "    .dataframe tbody tr th {\n",
       "        vertical-align: top;\n",
       "    }\n",
       "\n",
       "    .dataframe thead th {\n",
       "        text-align: right;\n",
       "    }\n",
       "</style>\n",
       "<table border=\"1\" class=\"dataframe\">\n",
       "  <thead>\n",
       "    <tr style=\"text-align: right;\">\n",
       "      <th></th>\n",
       "      <th>country</th>\n",
       "      <th>child_mort</th>\n",
       "      <th>exports</th>\n",
       "      <th>health</th>\n",
       "      <th>imports</th>\n",
       "      <th>income</th>\n",
       "      <th>inflation</th>\n",
       "      <th>life_expec</th>\n",
       "      <th>total_fer</th>\n",
       "      <th>gdpp</th>\n",
       "      <th>cluster_labels</th>\n",
       "    </tr>\n",
       "  </thead>\n",
       "  <tbody>\n",
       "    <tr>\n",
       "      <th>0</th>\n",
       "      <td>Afghanistan</td>\n",
       "      <td>90.2</td>\n",
       "      <td>55.30</td>\n",
       "      <td>41.9174</td>\n",
       "      <td>248.297</td>\n",
       "      <td>1610</td>\n",
       "      <td>9.44</td>\n",
       "      <td>56.2</td>\n",
       "      <td>5.82</td>\n",
       "      <td>553</td>\n",
       "      <td>0</td>\n",
       "    </tr>\n",
       "    <tr>\n",
       "      <th>1</th>\n",
       "      <td>Albania</td>\n",
       "      <td>16.6</td>\n",
       "      <td>1145.20</td>\n",
       "      <td>267.8950</td>\n",
       "      <td>1987.740</td>\n",
       "      <td>9930</td>\n",
       "      <td>4.49</td>\n",
       "      <td>76.3</td>\n",
       "      <td>1.65</td>\n",
       "      <td>4090</td>\n",
       "      <td>1</td>\n",
       "    </tr>\n",
       "    <tr>\n",
       "      <th>2</th>\n",
       "      <td>Algeria</td>\n",
       "      <td>27.3</td>\n",
       "      <td>1712.64</td>\n",
       "      <td>185.9820</td>\n",
       "      <td>1400.440</td>\n",
       "      <td>12900</td>\n",
       "      <td>16.10</td>\n",
       "      <td>76.5</td>\n",
       "      <td>2.89</td>\n",
       "      <td>4460</td>\n",
       "      <td>1</td>\n",
       "    </tr>\n",
       "    <tr>\n",
       "      <th>3</th>\n",
       "      <td>Angola</td>\n",
       "      <td>119.0</td>\n",
       "      <td>2199.19</td>\n",
       "      <td>100.6050</td>\n",
       "      <td>1514.370</td>\n",
       "      <td>5900</td>\n",
       "      <td>22.40</td>\n",
       "      <td>60.1</td>\n",
       "      <td>6.16</td>\n",
       "      <td>3530</td>\n",
       "      <td>0</td>\n",
       "    </tr>\n",
       "    <tr>\n",
       "      <th>4</th>\n",
       "      <td>Antigua and Barbuda</td>\n",
       "      <td>10.3</td>\n",
       "      <td>5551.00</td>\n",
       "      <td>735.6600</td>\n",
       "      <td>7185.800</td>\n",
       "      <td>19100</td>\n",
       "      <td>1.44</td>\n",
       "      <td>76.8</td>\n",
       "      <td>2.13</td>\n",
       "      <td>12200</td>\n",
       "      <td>1</td>\n",
       "    </tr>\n",
       "  </tbody>\n",
       "</table>\n",
       "</div>"
      ],
      "text/plain": [
       "               country  child_mort  exports    health   imports  income  \\\n",
       "0          Afghanistan        90.2    55.30   41.9174   248.297    1610   \n",
       "1              Albania        16.6  1145.20  267.8950  1987.740    9930   \n",
       "2              Algeria        27.3  1712.64  185.9820  1400.440   12900   \n",
       "3               Angola       119.0  2199.19  100.6050  1514.370    5900   \n",
       "4  Antigua and Barbuda        10.3  5551.00  735.6600  7185.800   19100   \n",
       "\n",
       "   inflation  life_expec  total_fer   gdpp  cluster_labels  \n",
       "0       9.44        56.2       5.82    553               0  \n",
       "1       4.49        76.3       1.65   4090               1  \n",
       "2      16.10        76.5       2.89   4460               1  \n",
       "3      22.40        60.1       6.16   3530               0  \n",
       "4       1.44        76.8       2.13  12200               1  "
      ]
     },
     "execution_count": 196,
     "metadata": {},
     "output_type": "execute_result"
    }
   ],
   "source": [
    "# Dropping the cloumns containing the Principle Components\n",
    "df9=df8.drop(['PC1','PC2','PC3','PC4'],axis=1)\n",
    "df9.head()"
   ]
  },
  {
   "cell_type": "markdown",
   "metadata": {},
   "source": [
    "- # Analysis of the cluster"
   ]
  },
  {
   "cell_type": "markdown",
   "metadata": {},
   "source": [
    "- Here we got cluster formed by K-Means method having 2 cluster and Hierarchical cluster method having 3 cluster.\n",
    "- We select Clusters formed by Hierarchical method and proceed.\n"
   ]
  },
  {
   "cell_type": "code",
   "execution_count": 197,
   "metadata": {},
   "outputs": [
    {
     "data": {
      "text/html": [
       "<div>\n",
       "<style scoped>\n",
       "    .dataframe tbody tr th:only-of-type {\n",
       "        vertical-align: middle;\n",
       "    }\n",
       "\n",
       "    .dataframe tbody tr th {\n",
       "        vertical-align: top;\n",
       "    }\n",
       "\n",
       "    .dataframe thead th {\n",
       "        text-align: right;\n",
       "    }\n",
       "</style>\n",
       "<table border=\"1\" class=\"dataframe\">\n",
       "  <thead>\n",
       "    <tr style=\"text-align: right;\">\n",
       "      <th></th>\n",
       "      <th>country</th>\n",
       "      <th>gdpp</th>\n",
       "      <th>child_mort</th>\n",
       "      <th>income</th>\n",
       "      <th>cluster_labels</th>\n",
       "    </tr>\n",
       "  </thead>\n",
       "  <tbody>\n",
       "    <tr>\n",
       "      <th>0</th>\n",
       "      <td>Afghanistan</td>\n",
       "      <td>553</td>\n",
       "      <td>90.2</td>\n",
       "      <td>1610</td>\n",
       "      <td>0</td>\n",
       "    </tr>\n",
       "    <tr>\n",
       "      <th>1</th>\n",
       "      <td>Albania</td>\n",
       "      <td>4090</td>\n",
       "      <td>16.6</td>\n",
       "      <td>9930</td>\n",
       "      <td>1</td>\n",
       "    </tr>\n",
       "    <tr>\n",
       "      <th>2</th>\n",
       "      <td>Algeria</td>\n",
       "      <td>4460</td>\n",
       "      <td>27.3</td>\n",
       "      <td>12900</td>\n",
       "      <td>1</td>\n",
       "    </tr>\n",
       "    <tr>\n",
       "      <th>3</th>\n",
       "      <td>Angola</td>\n",
       "      <td>3530</td>\n",
       "      <td>119.0</td>\n",
       "      <td>5900</td>\n",
       "      <td>0</td>\n",
       "    </tr>\n",
       "    <tr>\n",
       "      <th>4</th>\n",
       "      <td>Antigua and Barbuda</td>\n",
       "      <td>12200</td>\n",
       "      <td>10.3</td>\n",
       "      <td>19100</td>\n",
       "      <td>1</td>\n",
       "    </tr>\n",
       "  </tbody>\n",
       "</table>\n",
       "</div>"
      ],
      "text/plain": [
       "               country   gdpp  child_mort  income  cluster_labels\n",
       "0          Afghanistan    553        90.2    1610               0\n",
       "1              Albania   4090        16.6    9930               1\n",
       "2              Algeria   4460        27.3   12900               1\n",
       "3               Angola   3530       119.0    5900               0\n",
       "4  Antigua and Barbuda  12200        10.3   19100               1"
      ]
     },
     "execution_count": 197,
     "metadata": {},
     "output_type": "execute_result"
    }
   ],
   "source": [
    "# Separating the columns whihc will be analysed in a separate dataframe\n",
    "df10 = df9[['country','gdpp','child_mort','income','cluster_labels']]\n",
    "df10.head()"
   ]
  },
  {
   "cell_type": "code",
   "execution_count": 198,
   "metadata": {},
   "outputs": [],
   "source": [
    "# grouping all the numeical columns with respect to cluster_labels and getting theor means\n",
    "clu_gdpp = pd.DataFrame(df10.groupby([\"cluster_labels\"]).gdpp.mean())\n",
    "clu_child_mort = pd.DataFrame(df10.groupby([\"cluster_labels\"]).child_mort.mean())\n",
    "clu_income = pd.DataFrame(df10.groupby([\"cluster_labels\"]).income.mean())"
   ]
  },
  {
   "cell_type": "code",
   "execution_count": 199,
   "metadata": {},
   "outputs": [
    {
     "data": {
      "text/html": [
       "<div>\n",
       "<style scoped>\n",
       "    .dataframe tbody tr th:only-of-type {\n",
       "        vertical-align: middle;\n",
       "    }\n",
       "\n",
       "    .dataframe tbody tr th {\n",
       "        vertical-align: top;\n",
       "    }\n",
       "\n",
       "    .dataframe thead th {\n",
       "        text-align: right;\n",
       "    }\n",
       "</style>\n",
       "<table border=\"1\" class=\"dataframe\">\n",
       "  <thead>\n",
       "    <tr style=\"text-align: right;\">\n",
       "      <th></th>\n",
       "      <th>cluster_labels</th>\n",
       "      <th>gdpp</th>\n",
       "      <th>child_mort</th>\n",
       "      <th>income</th>\n",
       "    </tr>\n",
       "  </thead>\n",
       "  <tbody>\n",
       "    <tr>\n",
       "      <th>0</th>\n",
       "      <td>0</td>\n",
       "      <td>2456.800000</td>\n",
       "      <td>76.820000</td>\n",
       "      <td>5147.266667</td>\n",
       "    </tr>\n",
       "    <tr>\n",
       "      <th>1</th>\n",
       "      <td>1</td>\n",
       "      <td>5897.457143</td>\n",
       "      <td>23.088571</td>\n",
       "      <td>11348.571429</td>\n",
       "    </tr>\n",
       "    <tr>\n",
       "      <th>2</th>\n",
       "      <td>2</td>\n",
       "      <td>26241.666667</td>\n",
       "      <td>6.291667</td>\n",
       "      <td>35733.333333</td>\n",
       "    </tr>\n",
       "  </tbody>\n",
       "</table>\n",
       "</div>"
      ],
      "text/plain": [
       "   cluster_labels          gdpp  child_mort        income\n",
       "0               0   2456.800000   76.820000   5147.266667\n",
       "1               1   5897.457143   23.088571  11348.571429\n",
       "2               2  26241.666667    6.291667  35733.333333"
      ]
     },
     "execution_count": 199,
     "metadata": {},
     "output_type": "execute_result"
    }
   ],
   "source": [
    "#making the dataframe of the average values of each numerical cloumn with the each cluster labels\n",
    "df11 = pd.concat([pd.Series([0,1,2]),clu_gdpp,clu_child_mort,clu_income], axis=1)\n",
    "df11.columns = [\"cluster_labels\",\"gdpp\",\"child_mort\",\"income\"]\n",
    "df11"
   ]
  },
  {
   "cell_type": "markdown",
   "metadata": {},
   "source": [
    "- Here you could easly see that the cluster '0' contains the countries having low gdpp, low income and very high child_mort.\n",
    "- Cluster labels = 0 are the countries which are underdeveloped.\n",
    "- Cluster labels = 1 are the countries which are developing.\n",
    "- Cluster lebels = 2 are the countries which are developed.\n"
   ]
  },
  {
   "cell_type": "code",
   "execution_count": 200,
   "metadata": {},
   "outputs": [
    {
     "data": {
      "text/plain": [
       "<matplotlib.axes._subplots.AxesSubplot at 0x1893f653978>"
      ]
     },
     "execution_count": 200,
     "metadata": {},
     "output_type": "execute_result"
    },
    {
     "data": {
      "image/png": "[encoded data removed]",
      "text/plain": [
       "<Figure size 432x288 with 1 Axes>"
      ]
     },
     "metadata": {
      "needs_background": "light"
     },
     "output_type": "display_data"
    }
   ],
   "source": [
    "#PLotting the gdpp with child_mort\n",
    "sns.scatterplot(x='gdpp',y='child_mort',data=df10)"
   ]
  },
  {
   "cell_type": "markdown",
   "metadata": {},
   "source": [
    "- Here you could see that the countries having high child_mort are also have very low gdpp.\n",
    "- Countries having high gdpp has a very low child_mort."
   ]
  },
  {
   "cell_type": "code",
   "execution_count": 201,
   "metadata": {},
   "outputs": [
    {
     "data": {
      "text/plain": [
       "<matplotlib.axes._subplots.AxesSubplot at 0x1893f88c0b8>"
      ]
     },
     "execution_count": 201,
     "metadata": {},
     "output_type": "execute_result"
    },
    {
     "data": {
      "image/png": "[encoded data removed]",
      "text/plain": [
       "<Figure size 432x288 with 1 Axes>"
      ]
     },
     "metadata": {
      "needs_background": "light"
     },
     "output_type": "display_data"
    }
   ],
   "source": [
    "#PLotting the gdpp with income\n",
    "sns.scatterplot(x='gdpp',y='income',data=df10)"
   ]
  },
  {
   "cell_type": "markdown",
   "metadata": {},
   "source": [
    "- Here you could see that the countries gdpp is directly proportional to the average income of the people of that country."
   ]
  },
  {
   "cell_type": "code",
   "execution_count": 202,
   "metadata": {},
   "outputs": [
    {
     "data": {
      "text/plain": [
       "<matplotlib.axes._subplots.AxesSubplot at 0x1893f88c5c0>"
      ]
     },
     "execution_count": 202,
     "metadata": {},
     "output_type": "execute_result"
    },
    {
     "data": {
      "image/png": "[encoded data removed]",
      "text/plain": [
       "<Figure size 432x288 with 1 Axes>"
      ]
     },
     "metadata": {
      "needs_background": "light"
     },
     "output_type": "display_data"
    }
   ],
   "source": [
    "#PLotting the child_mort with income\n",
    "sns.scatterplot(x='child_mort',y='income',data=df10)"
   ]
  },
  {
   "cell_type": "markdown",
   "metadata": {},
   "source": [
    "- Here you could see that countries having high child mortality is also the country where people's average income is low.\n",
    "- Country where people's averge income is large the child mortality is also low. "
   ]
  },
  {
   "cell_type": "code",
   "execution_count": 203,
   "metadata": {},
   "outputs": [
    {
     "data": {
      "text/plain": [
       "<matplotlib.axes._subplots.AxesSubplot at 0x1893f947550>"
      ]
     },
     "execution_count": 203,
     "metadata": {},
     "output_type": "execute_result"
    },
    {
     "data": {
      "image/png": "[encoded data removed]",
      "text/plain": [
       "<Figure size 432x288 with 1 Axes>"
      ]
     },
     "metadata": {
      "needs_background": "light"
     },
     "output_type": "display_data"
    }
   ],
   "source": [
    "# plotting the box plot of gdpp for each cluster\n",
    "sns.boxplot(x='cluster_labels', y='gdpp', data=df10)"
   ]
  },
  {
   "cell_type": "markdown",
   "metadata": {},
   "source": [
    "- Here you could easily see that for underdeveloped countries the gdpp id very low compare to the developing countries."
   ]
  },
  {
   "cell_type": "code",
   "execution_count": 204,
   "metadata": {},
   "outputs": [
    {
     "data": {
      "text/plain": [
       "<matplotlib.axes._subplots.AxesSubplot at 0x1893f7ec908>"
      ]
     },
     "execution_count": 204,
     "metadata": {},
     "output_type": "execute_result"
    },
    {
     "data": {
      "image/png": "[encoded data removed]",
      "text/plain": [
       "<Figure size 432x288 with 1 Axes>"
      ]
     },
     "metadata": {
      "needs_background": "light"
     },
     "output_type": "display_data"
    }
   ],
   "source": [
    "# plotting the box plot of income with each cluster\n",
    "sns.boxplot(x='cluster_labels', y='income', data=df10)"
   ]
  },
  {
   "cell_type": "markdown",
   "metadata": {},
   "source": [
    "- Here you could see that the income follow somewhat simmilar pattern to that of gdpp graph."
   ]
  },
  {
   "cell_type": "code",
   "execution_count": 205,
   "metadata": {},
   "outputs": [
    {
     "data": {
      "text/plain": [
       "<matplotlib.axes._subplots.AxesSubplot at 0x1893fa47c50>"
      ]
     },
     "execution_count": 205,
     "metadata": {},
     "output_type": "execute_result"
    },
    {
     "data": {
      "image/png": "[encoded data removed]",
      "text/plain": [
       "<Figure size 432x288 with 1 Axes>"
      ]
     },
     "metadata": {
      "needs_background": "light"
     },
     "output_type": "display_data"
    }
   ],
   "source": [
    "# plotting the boxplot of child_mort for each cluster\n",
    "sns.boxplot(x='cluster_labels', y='child_mort', data=df10)"
   ]
  },
  {
   "cell_type": "markdown",
   "metadata": {},
   "source": [
    "- Here you could see that the child mortalility is very high in the underdeveloped countries."
   ]
  },
  {
   "cell_type": "code",
   "execution_count": 206,
   "metadata": {},
   "outputs": [
    {
     "data": {
      "text/html": [
       "<div>\n",
       "<style scoped>\n",
       "    .dataframe tbody tr th:only-of-type {\n",
       "        vertical-align: middle;\n",
       "    }\n",
       "\n",
       "    .dataframe tbody tr th {\n",
       "        vertical-align: top;\n",
       "    }\n",
       "\n",
       "    .dataframe thead th {\n",
       "        text-align: right;\n",
       "    }\n",
       "</style>\n",
       "<table border=\"1\" class=\"dataframe\">\n",
       "  <thead>\n",
       "    <tr style=\"text-align: right;\">\n",
       "      <th></th>\n",
       "      <th>country</th>\n",
       "      <th>gdpp</th>\n",
       "      <th>child_mort</th>\n",
       "      <th>income</th>\n",
       "      <th>cluster_labels</th>\n",
       "    </tr>\n",
       "  </thead>\n",
       "  <tbody>\n",
       "    <tr>\n",
       "      <th>0</th>\n",
       "      <td>Afghanistan</td>\n",
       "      <td>553</td>\n",
       "      <td>90.2</td>\n",
       "      <td>1610</td>\n",
       "      <td>0</td>\n",
       "    </tr>\n",
       "    <tr>\n",
       "      <th>3</th>\n",
       "      <td>Angola</td>\n",
       "      <td>3530</td>\n",
       "      <td>119.0</td>\n",
       "      <td>5900</td>\n",
       "      <td>0</td>\n",
       "    </tr>\n",
       "    <tr>\n",
       "      <th>21</th>\n",
       "      <td>Botswana</td>\n",
       "      <td>6350</td>\n",
       "      <td>52.5</td>\n",
       "      <td>13300</td>\n",
       "      <td>0</td>\n",
       "    </tr>\n",
       "    <tr>\n",
       "      <th>25</th>\n",
       "      <td>Burkina Faso</td>\n",
       "      <td>575</td>\n",
       "      <td>116.0</td>\n",
       "      <td>1430</td>\n",
       "      <td>0</td>\n",
       "    </tr>\n",
       "    <tr>\n",
       "      <th>36</th>\n",
       "      <td>Comoros</td>\n",
       "      <td>769</td>\n",
       "      <td>88.2</td>\n",
       "      <td>1410</td>\n",
       "      <td>0</td>\n",
       "    </tr>\n",
       "  </tbody>\n",
       "</table>\n",
       "</div>"
      ],
      "text/plain": [
       "         country  gdpp  child_mort  income  cluster_labels\n",
       "0    Afghanistan   553        90.2    1610               0\n",
       "3         Angola  3530       119.0    5900               0\n",
       "21      Botswana  6350        52.5   13300               0\n",
       "25  Burkina Faso   575       116.0    1430               0\n",
       "36       Comoros   769        88.2    1410               0"
      ]
     },
     "execution_count": 206,
     "metadata": {},
     "output_type": "execute_result"
    }
   ],
   "source": [
    "# Separating the underdeveloped countries into a seprate dataframe\n",
    "df12 = df10.loc[df10['cluster_labels']==0]\n",
    "df12.head()"
   ]
  },
  {
   "cell_type": "code",
   "execution_count": 207,
   "metadata": {},
   "outputs": [
    {
     "data": {
      "text/html": [
       "<div>\n",
       "<style scoped>\n",
       "    .dataframe tbody tr th:only-of-type {\n",
       "        vertical-align: middle;\n",
       "    }\n",
       "\n",
       "    .dataframe tbody tr th {\n",
       "        vertical-align: top;\n",
       "    }\n",
       "\n",
       "    .dataframe thead th {\n",
       "        text-align: right;\n",
       "    }\n",
       "</style>\n",
       "<table border=\"1\" class=\"dataframe\">\n",
       "  <thead>\n",
       "    <tr style=\"text-align: right;\">\n",
       "      <th></th>\n",
       "      <th>country</th>\n",
       "      <th>gdpp</th>\n",
       "      <th>child_mort</th>\n",
       "      <th>income</th>\n",
       "      <th>cluster_labels</th>\n",
       "    </tr>\n",
       "  </thead>\n",
       "  <tbody>\n",
       "    <tr>\n",
       "      <th>88</th>\n",
       "      <td>Liberia</td>\n",
       "      <td>327</td>\n",
       "      <td>89.3</td>\n",
       "      <td>700</td>\n",
       "      <td>0</td>\n",
       "    </tr>\n",
       "    <tr>\n",
       "      <th>93</th>\n",
       "      <td>Madagascar</td>\n",
       "      <td>413</td>\n",
       "      <td>62.2</td>\n",
       "      <td>1390</td>\n",
       "      <td>0</td>\n",
       "    </tr>\n",
       "    <tr>\n",
       "      <th>106</th>\n",
       "      <td>Mozambique</td>\n",
       "      <td>419</td>\n",
       "      <td>101.0</td>\n",
       "      <td>918</td>\n",
       "      <td>0</td>\n",
       "    </tr>\n",
       "    <tr>\n",
       "      <th>94</th>\n",
       "      <td>Malawi</td>\n",
       "      <td>459</td>\n",
       "      <td>90.5</td>\n",
       "      <td>1030</td>\n",
       "      <td>0</td>\n",
       "    </tr>\n",
       "    <tr>\n",
       "      <th>50</th>\n",
       "      <td>Eritrea</td>\n",
       "      <td>482</td>\n",
       "      <td>55.2</td>\n",
       "      <td>1420</td>\n",
       "      <td>0</td>\n",
       "    </tr>\n",
       "    <tr>\n",
       "      <th>0</th>\n",
       "      <td>Afghanistan</td>\n",
       "      <td>553</td>\n",
       "      <td>90.2</td>\n",
       "      <td>1610</td>\n",
       "      <td>0</td>\n",
       "    </tr>\n",
       "    <tr>\n",
       "      <th>56</th>\n",
       "      <td>Gambia</td>\n",
       "      <td>562</td>\n",
       "      <td>80.3</td>\n",
       "      <td>1660</td>\n",
       "      <td>0</td>\n",
       "    </tr>\n",
       "    <tr>\n",
       "      <th>126</th>\n",
       "      <td>Rwanda</td>\n",
       "      <td>563</td>\n",
       "      <td>63.6</td>\n",
       "      <td>1350</td>\n",
       "      <td>0</td>\n",
       "    </tr>\n",
       "    <tr>\n",
       "      <th>25</th>\n",
       "      <td>Burkina Faso</td>\n",
       "      <td>575</td>\n",
       "      <td>116.0</td>\n",
       "      <td>1430</td>\n",
       "      <td>0</td>\n",
       "    </tr>\n",
       "    <tr>\n",
       "      <th>155</th>\n",
       "      <td>Uganda</td>\n",
       "      <td>595</td>\n",
       "      <td>81.0</td>\n",
       "      <td>1540</td>\n",
       "      <td>0</td>\n",
       "    </tr>\n",
       "    <tr>\n",
       "      <th>63</th>\n",
       "      <td>Guinea</td>\n",
       "      <td>648</td>\n",
       "      <td>109.0</td>\n",
       "      <td>1190</td>\n",
       "      <td>0</td>\n",
       "    </tr>\n",
       "    <tr>\n",
       "      <th>147</th>\n",
       "      <td>Tanzania</td>\n",
       "      <td>702</td>\n",
       "      <td>71.9</td>\n",
       "      <td>2090</td>\n",
       "      <td>0</td>\n",
       "    </tr>\n",
       "    <tr>\n",
       "      <th>36</th>\n",
       "      <td>Comoros</td>\n",
       "      <td>769</td>\n",
       "      <td>88.2</td>\n",
       "      <td>1410</td>\n",
       "      <td>0</td>\n",
       "    </tr>\n",
       "    <tr>\n",
       "      <th>80</th>\n",
       "      <td>Kenya</td>\n",
       "      <td>967</td>\n",
       "      <td>62.2</td>\n",
       "      <td>2480</td>\n",
       "      <td>0</td>\n",
       "    </tr>\n",
       "    <tr>\n",
       "      <th>116</th>\n",
       "      <td>Pakistan</td>\n",
       "      <td>1040</td>\n",
       "      <td>92.1</td>\n",
       "      <td>4280</td>\n",
       "      <td>0</td>\n",
       "    </tr>\n",
       "    <tr>\n",
       "      <th>84</th>\n",
       "      <td>Lao</td>\n",
       "      <td>1140</td>\n",
       "      <td>78.9</td>\n",
       "      <td>3980</td>\n",
       "      <td>0</td>\n",
       "    </tr>\n",
       "    <tr>\n",
       "      <th>99</th>\n",
       "      <td>Mauritania</td>\n",
       "      <td>1200</td>\n",
       "      <td>97.4</td>\n",
       "      <td>3320</td>\n",
       "      <td>0</td>\n",
       "    </tr>\n",
       "    <tr>\n",
       "      <th>136</th>\n",
       "      <td>Solomon Islands</td>\n",
       "      <td>1290</td>\n",
       "      <td>28.1</td>\n",
       "      <td>1780</td>\n",
       "      <td>0</td>\n",
       "    </tr>\n",
       "    <tr>\n",
       "      <th>59</th>\n",
       "      <td>Ghana</td>\n",
       "      <td>1310</td>\n",
       "      <td>74.7</td>\n",
       "      <td>3060</td>\n",
       "      <td>0</td>\n",
       "    </tr>\n",
       "    <tr>\n",
       "      <th>165</th>\n",
       "      <td>Yemen</td>\n",
       "      <td>1310</td>\n",
       "      <td>56.3</td>\n",
       "      <td>4480</td>\n",
       "      <td>0</td>\n",
       "    </tr>\n",
       "    <tr>\n",
       "      <th>166</th>\n",
       "      <td>Zambia</td>\n",
       "      <td>1460</td>\n",
       "      <td>83.1</td>\n",
       "      <td>3280</td>\n",
       "      <td>0</td>\n",
       "    </tr>\n",
       "    <tr>\n",
       "      <th>142</th>\n",
       "      <td>Sudan</td>\n",
       "      <td>1480</td>\n",
       "      <td>76.7</td>\n",
       "      <td>3370</td>\n",
       "      <td>0</td>\n",
       "    </tr>\n",
       "    <tr>\n",
       "      <th>38</th>\n",
       "      <td>Congo, Rep.</td>\n",
       "      <td>2740</td>\n",
       "      <td>63.9</td>\n",
       "      <td>5190</td>\n",
       "      <td>0</td>\n",
       "    </tr>\n",
       "    <tr>\n",
       "      <th>3</th>\n",
       "      <td>Angola</td>\n",
       "      <td>3530</td>\n",
       "      <td>119.0</td>\n",
       "      <td>5900</td>\n",
       "      <td>0</td>\n",
       "    </tr>\n",
       "    <tr>\n",
       "      <th>72</th>\n",
       "      <td>Iraq</td>\n",
       "      <td>4500</td>\n",
       "      <td>36.9</td>\n",
       "      <td>12700</td>\n",
       "      <td>0</td>\n",
       "    </tr>\n",
       "    <tr>\n",
       "      <th>108</th>\n",
       "      <td>Namibia</td>\n",
       "      <td>5190</td>\n",
       "      <td>56.0</td>\n",
       "      <td>8460</td>\n",
       "      <td>0</td>\n",
       "    </tr>\n",
       "    <tr>\n",
       "      <th>21</th>\n",
       "      <td>Botswana</td>\n",
       "      <td>6350</td>\n",
       "      <td>52.5</td>\n",
       "      <td>13300</td>\n",
       "      <td>0</td>\n",
       "    </tr>\n",
       "    <tr>\n",
       "      <th>137</th>\n",
       "      <td>South Africa</td>\n",
       "      <td>7280</td>\n",
       "      <td>53.7</td>\n",
       "      <td>12000</td>\n",
       "      <td>0</td>\n",
       "    </tr>\n",
       "    <tr>\n",
       "      <th>55</th>\n",
       "      <td>Gabon</td>\n",
       "      <td>8750</td>\n",
       "      <td>63.7</td>\n",
       "      <td>15400</td>\n",
       "      <td>0</td>\n",
       "    </tr>\n",
       "    <tr>\n",
       "      <th>49</th>\n",
       "      <td>Equatorial Guinea</td>\n",
       "      <td>17100</td>\n",
       "      <td>111.0</td>\n",
       "      <td>33700</td>\n",
       "      <td>0</td>\n",
       "    </tr>\n",
       "  </tbody>\n",
       "</table>\n",
       "</div>"
      ],
      "text/plain": [
       "               country   gdpp  child_mort  income  cluster_labels\n",
       "88             Liberia    327        89.3     700               0\n",
       "93          Madagascar    413        62.2    1390               0\n",
       "106         Mozambique    419       101.0     918               0\n",
       "94              Malawi    459        90.5    1030               0\n",
       "50             Eritrea    482        55.2    1420               0\n",
       "0          Afghanistan    553        90.2    1610               0\n",
       "56              Gambia    562        80.3    1660               0\n",
       "126             Rwanda    563        63.6    1350               0\n",
       "25        Burkina Faso    575       116.0    1430               0\n",
       "155             Uganda    595        81.0    1540               0\n",
       "63              Guinea    648       109.0    1190               0\n",
       "147           Tanzania    702        71.9    2090               0\n",
       "36             Comoros    769        88.2    1410               0\n",
       "80               Kenya    967        62.2    2480               0\n",
       "116           Pakistan   1040        92.1    4280               0\n",
       "84                 Lao   1140        78.9    3980               0\n",
       "99          Mauritania   1200        97.4    3320               0\n",
       "136    Solomon Islands   1290        28.1    1780               0\n",
       "59               Ghana   1310        74.7    3060               0\n",
       "165              Yemen   1310        56.3    4480               0\n",
       "166             Zambia   1460        83.1    3280               0\n",
       "142              Sudan   1480        76.7    3370               0\n",
       "38         Congo, Rep.   2740        63.9    5190               0\n",
       "3               Angola   3530       119.0    5900               0\n",
       "72                Iraq   4500        36.9   12700               0\n",
       "108            Namibia   5190        56.0    8460               0\n",
       "21            Botswana   6350        52.5   13300               0\n",
       "137       South Africa   7280        53.7   12000               0\n",
       "55               Gabon   8750        63.7   15400               0\n",
       "49   Equatorial Guinea  17100       111.0   33700               0"
      ]
     },
     "execution_count": 207,
     "metadata": {},
     "output_type": "execute_result"
    }
   ],
   "source": [
    "# Sortting the dataframe in ascending order with respect to gdpp\n",
    "df12.sort_values(by='gdpp')"
   ]
  },
  {
   "cell_type": "code",
   "execution_count": 208,
   "metadata": {},
   "outputs": [
    {
     "data": {
      "text/html": [
       "<div>\n",
       "<style scoped>\n",
       "    .dataframe tbody tr th:only-of-type {\n",
       "        vertical-align: middle;\n",
       "    }\n",
       "\n",
       "    .dataframe tbody tr th {\n",
       "        vertical-align: top;\n",
       "    }\n",
       "\n",
       "    .dataframe thead th {\n",
       "        text-align: right;\n",
       "    }\n",
       "</style>\n",
       "<table border=\"1\" class=\"dataframe\">\n",
       "  <thead>\n",
       "    <tr style=\"text-align: right;\">\n",
       "      <th></th>\n",
       "      <th>country</th>\n",
       "      <th>gdpp</th>\n",
       "      <th>child_mort</th>\n",
       "      <th>income</th>\n",
       "      <th>cluster_labels</th>\n",
       "    </tr>\n",
       "  </thead>\n",
       "  <tbody>\n",
       "    <tr>\n",
       "      <th>88</th>\n",
       "      <td>Liberia</td>\n",
       "      <td>327</td>\n",
       "      <td>89.3</td>\n",
       "      <td>700</td>\n",
       "      <td>0</td>\n",
       "    </tr>\n",
       "    <tr>\n",
       "      <th>106</th>\n",
       "      <td>Mozambique</td>\n",
       "      <td>419</td>\n",
       "      <td>101.0</td>\n",
       "      <td>918</td>\n",
       "      <td>0</td>\n",
       "    </tr>\n",
       "    <tr>\n",
       "      <th>94</th>\n",
       "      <td>Malawi</td>\n",
       "      <td>459</td>\n",
       "      <td>90.5</td>\n",
       "      <td>1030</td>\n",
       "      <td>0</td>\n",
       "    </tr>\n",
       "    <tr>\n",
       "      <th>63</th>\n",
       "      <td>Guinea</td>\n",
       "      <td>648</td>\n",
       "      <td>109.0</td>\n",
       "      <td>1190</td>\n",
       "      <td>0</td>\n",
       "    </tr>\n",
       "    <tr>\n",
       "      <th>126</th>\n",
       "      <td>Rwanda</td>\n",
       "      <td>563</td>\n",
       "      <td>63.6</td>\n",
       "      <td>1350</td>\n",
       "      <td>0</td>\n",
       "    </tr>\n",
       "    <tr>\n",
       "      <th>93</th>\n",
       "      <td>Madagascar</td>\n",
       "      <td>413</td>\n",
       "      <td>62.2</td>\n",
       "      <td>1390</td>\n",
       "      <td>0</td>\n",
       "    </tr>\n",
       "    <tr>\n",
       "      <th>36</th>\n",
       "      <td>Comoros</td>\n",
       "      <td>769</td>\n",
       "      <td>88.2</td>\n",
       "      <td>1410</td>\n",
       "      <td>0</td>\n",
       "    </tr>\n",
       "    <tr>\n",
       "      <th>50</th>\n",
       "      <td>Eritrea</td>\n",
       "      <td>482</td>\n",
       "      <td>55.2</td>\n",
       "      <td>1420</td>\n",
       "      <td>0</td>\n",
       "    </tr>\n",
       "    <tr>\n",
       "      <th>25</th>\n",
       "      <td>Burkina Faso</td>\n",
       "      <td>575</td>\n",
       "      <td>116.0</td>\n",
       "      <td>1430</td>\n",
       "      <td>0</td>\n",
       "    </tr>\n",
       "    <tr>\n",
       "      <th>155</th>\n",
       "      <td>Uganda</td>\n",
       "      <td>595</td>\n",
       "      <td>81.0</td>\n",
       "      <td>1540</td>\n",
       "      <td>0</td>\n",
       "    </tr>\n",
       "    <tr>\n",
       "      <th>0</th>\n",
       "      <td>Afghanistan</td>\n",
       "      <td>553</td>\n",
       "      <td>90.2</td>\n",
       "      <td>1610</td>\n",
       "      <td>0</td>\n",
       "    </tr>\n",
       "    <tr>\n",
       "      <th>56</th>\n",
       "      <td>Gambia</td>\n",
       "      <td>562</td>\n",
       "      <td>80.3</td>\n",
       "      <td>1660</td>\n",
       "      <td>0</td>\n",
       "    </tr>\n",
       "    <tr>\n",
       "      <th>136</th>\n",
       "      <td>Solomon Islands</td>\n",
       "      <td>1290</td>\n",
       "      <td>28.1</td>\n",
       "      <td>1780</td>\n",
       "      <td>0</td>\n",
       "    </tr>\n",
       "    <tr>\n",
       "      <th>147</th>\n",
       "      <td>Tanzania</td>\n",
       "      <td>702</td>\n",
       "      <td>71.9</td>\n",
       "      <td>2090</td>\n",
       "      <td>0</td>\n",
       "    </tr>\n",
       "    <tr>\n",
       "      <th>80</th>\n",
       "      <td>Kenya</td>\n",
       "      <td>967</td>\n",
       "      <td>62.2</td>\n",
       "      <td>2480</td>\n",
       "      <td>0</td>\n",
       "    </tr>\n",
       "    <tr>\n",
       "      <th>59</th>\n",
       "      <td>Ghana</td>\n",
       "      <td>1310</td>\n",
       "      <td>74.7</td>\n",
       "      <td>3060</td>\n",
       "      <td>0</td>\n",
       "    </tr>\n",
       "    <tr>\n",
       "      <th>166</th>\n",
       "      <td>Zambia</td>\n",
       "      <td>1460</td>\n",
       "      <td>83.1</td>\n",
       "      <td>3280</td>\n",
       "      <td>0</td>\n",
       "    </tr>\n",
       "    <tr>\n",
       "      <th>99</th>\n",
       "      <td>Mauritania</td>\n",
       "      <td>1200</td>\n",
       "      <td>97.4</td>\n",
       "      <td>3320</td>\n",
       "      <td>0</td>\n",
       "    </tr>\n",
       "    <tr>\n",
       "      <th>142</th>\n",
       "      <td>Sudan</td>\n",
       "      <td>1480</td>\n",
       "      <td>76.7</td>\n",
       "      <td>3370</td>\n",
       "      <td>0</td>\n",
       "    </tr>\n",
       "    <tr>\n",
       "      <th>84</th>\n",
       "      <td>Lao</td>\n",
       "      <td>1140</td>\n",
       "      <td>78.9</td>\n",
       "      <td>3980</td>\n",
       "      <td>0</td>\n",
       "    </tr>\n",
       "    <tr>\n",
       "      <th>116</th>\n",
       "      <td>Pakistan</td>\n",
       "      <td>1040</td>\n",
       "      <td>92.1</td>\n",
       "      <td>4280</td>\n",
       "      <td>0</td>\n",
       "    </tr>\n",
       "    <tr>\n",
       "      <th>165</th>\n",
       "      <td>Yemen</td>\n",
       "      <td>1310</td>\n",
       "      <td>56.3</td>\n",
       "      <td>4480</td>\n",
       "      <td>0</td>\n",
       "    </tr>\n",
       "    <tr>\n",
       "      <th>38</th>\n",
       "      <td>Congo, Rep.</td>\n",
       "      <td>2740</td>\n",
       "      <td>63.9</td>\n",
       "      <td>5190</td>\n",
       "      <td>0</td>\n",
       "    </tr>\n",
       "    <tr>\n",
       "      <th>3</th>\n",
       "      <td>Angola</td>\n",
       "      <td>3530</td>\n",
       "      <td>119.0</td>\n",
       "      <td>5900</td>\n",
       "      <td>0</td>\n",
       "    </tr>\n",
       "    <tr>\n",
       "      <th>108</th>\n",
       "      <td>Namibia</td>\n",
       "      <td>5190</td>\n",
       "      <td>56.0</td>\n",
       "      <td>8460</td>\n",
       "      <td>0</td>\n",
       "    </tr>\n",
       "    <tr>\n",
       "      <th>137</th>\n",
       "      <td>South Africa</td>\n",
       "      <td>7280</td>\n",
       "      <td>53.7</td>\n",
       "      <td>12000</td>\n",
       "      <td>0</td>\n",
       "    </tr>\n",
       "    <tr>\n",
       "      <th>72</th>\n",
       "      <td>Iraq</td>\n",
       "      <td>4500</td>\n",
       "      <td>36.9</td>\n",
       "      <td>12700</td>\n",
       "      <td>0</td>\n",
       "    </tr>\n",
       "    <tr>\n",
       "      <th>21</th>\n",
       "      <td>Botswana</td>\n",
       "      <td>6350</td>\n",
       "      <td>52.5</td>\n",
       "      <td>13300</td>\n",
       "      <td>0</td>\n",
       "    </tr>\n",
       "    <tr>\n",
       "      <th>55</th>\n",
       "      <td>Gabon</td>\n",
       "      <td>8750</td>\n",
       "      <td>63.7</td>\n",
       "      <td>15400</td>\n",
       "      <td>0</td>\n",
       "    </tr>\n",
       "    <tr>\n",
       "      <th>49</th>\n",
       "      <td>Equatorial Guinea</td>\n",
       "      <td>17100</td>\n",
       "      <td>111.0</td>\n",
       "      <td>33700</td>\n",
       "      <td>0</td>\n",
       "    </tr>\n",
       "  </tbody>\n",
       "</table>\n",
       "</div>"
      ],
      "text/plain": [
       "               country   gdpp  child_mort  income  cluster_labels\n",
       "88             Liberia    327        89.3     700               0\n",
       "106         Mozambique    419       101.0     918               0\n",
       "94              Malawi    459        90.5    1030               0\n",
       "63              Guinea    648       109.0    1190               0\n",
       "126             Rwanda    563        63.6    1350               0\n",
       "93          Madagascar    413        62.2    1390               0\n",
       "36             Comoros    769        88.2    1410               0\n",
       "50             Eritrea    482        55.2    1420               0\n",
       "25        Burkina Faso    575       116.0    1430               0\n",
       "155             Uganda    595        81.0    1540               0\n",
       "0          Afghanistan    553        90.2    1610               0\n",
       "56              Gambia    562        80.3    1660               0\n",
       "136    Solomon Islands   1290        28.1    1780               0\n",
       "147           Tanzania    702        71.9    2090               0\n",
       "80               Kenya    967        62.2    2480               0\n",
       "59               Ghana   1310        74.7    3060               0\n",
       "166             Zambia   1460        83.1    3280               0\n",
       "99          Mauritania   1200        97.4    3320               0\n",
       "142              Sudan   1480        76.7    3370               0\n",
       "84                 Lao   1140        78.9    3980               0\n",
       "116           Pakistan   1040        92.1    4280               0\n",
       "165              Yemen   1310        56.3    4480               0\n",
       "38         Congo, Rep.   2740        63.9    5190               0\n",
       "3               Angola   3530       119.0    5900               0\n",
       "108            Namibia   5190        56.0    8460               0\n",
       "137       South Africa   7280        53.7   12000               0\n",
       "72                Iraq   4500        36.9   12700               0\n",
       "21            Botswana   6350        52.5   13300               0\n",
       "55               Gabon   8750        63.7   15400               0\n",
       "49   Equatorial Guinea  17100       111.0   33700               0"
      ]
     },
     "execution_count": 208,
     "metadata": {},
     "output_type": "execute_result"
    }
   ],
   "source": [
    "# Sortting the dataframe in ascending order with respect to the income\n",
    "df12.sort_values(by='income')"
   ]
  },
  {
   "cell_type": "code",
   "execution_count": 209,
   "metadata": {},
   "outputs": [
    {
     "data": {
      "text/html": [
       "<div>\n",
       "<style scoped>\n",
       "    .dataframe tbody tr th:only-of-type {\n",
       "        vertical-align: middle;\n",
       "    }\n",
       "\n",
       "    .dataframe tbody tr th {\n",
       "        vertical-align: top;\n",
       "    }\n",
       "\n",
       "    .dataframe thead th {\n",
       "        text-align: right;\n",
       "    }\n",
       "</style>\n",
       "<table border=\"1\" class=\"dataframe\">\n",
       "  <thead>\n",
       "    <tr style=\"text-align: right;\">\n",
       "      <th></th>\n",
       "      <th>country</th>\n",
       "      <th>gdpp</th>\n",
       "      <th>child_mort</th>\n",
       "      <th>income</th>\n",
       "      <th>cluster_labels</th>\n",
       "    </tr>\n",
       "  </thead>\n",
       "  <tbody>\n",
       "    <tr>\n",
       "      <th>3</th>\n",
       "      <td>Angola</td>\n",
       "      <td>3530</td>\n",
       "      <td>119.0</td>\n",
       "      <td>5900</td>\n",
       "      <td>0</td>\n",
       "    </tr>\n",
       "    <tr>\n",
       "      <th>25</th>\n",
       "      <td>Burkina Faso</td>\n",
       "      <td>575</td>\n",
       "      <td>116.0</td>\n",
       "      <td>1430</td>\n",
       "      <td>0</td>\n",
       "    </tr>\n",
       "    <tr>\n",
       "      <th>49</th>\n",
       "      <td>Equatorial Guinea</td>\n",
       "      <td>17100</td>\n",
       "      <td>111.0</td>\n",
       "      <td>33700</td>\n",
       "      <td>0</td>\n",
       "    </tr>\n",
       "    <tr>\n",
       "      <th>63</th>\n",
       "      <td>Guinea</td>\n",
       "      <td>648</td>\n",
       "      <td>109.0</td>\n",
       "      <td>1190</td>\n",
       "      <td>0</td>\n",
       "    </tr>\n",
       "    <tr>\n",
       "      <th>106</th>\n",
       "      <td>Mozambique</td>\n",
       "      <td>419</td>\n",
       "      <td>101.0</td>\n",
       "      <td>918</td>\n",
       "      <td>0</td>\n",
       "    </tr>\n",
       "    <tr>\n",
       "      <th>99</th>\n",
       "      <td>Mauritania</td>\n",
       "      <td>1200</td>\n",
       "      <td>97.4</td>\n",
       "      <td>3320</td>\n",
       "      <td>0</td>\n",
       "    </tr>\n",
       "    <tr>\n",
       "      <th>116</th>\n",
       "      <td>Pakistan</td>\n",
       "      <td>1040</td>\n",
       "      <td>92.1</td>\n",
       "      <td>4280</td>\n",
       "      <td>0</td>\n",
       "    </tr>\n",
       "    <tr>\n",
       "      <th>94</th>\n",
       "      <td>Malawi</td>\n",
       "      <td>459</td>\n",
       "      <td>90.5</td>\n",
       "      <td>1030</td>\n",
       "      <td>0</td>\n",
       "    </tr>\n",
       "    <tr>\n",
       "      <th>0</th>\n",
       "      <td>Afghanistan</td>\n",
       "      <td>553</td>\n",
       "      <td>90.2</td>\n",
       "      <td>1610</td>\n",
       "      <td>0</td>\n",
       "    </tr>\n",
       "    <tr>\n",
       "      <th>88</th>\n",
       "      <td>Liberia</td>\n",
       "      <td>327</td>\n",
       "      <td>89.3</td>\n",
       "      <td>700</td>\n",
       "      <td>0</td>\n",
       "    </tr>\n",
       "    <tr>\n",
       "      <th>36</th>\n",
       "      <td>Comoros</td>\n",
       "      <td>769</td>\n",
       "      <td>88.2</td>\n",
       "      <td>1410</td>\n",
       "      <td>0</td>\n",
       "    </tr>\n",
       "    <tr>\n",
       "      <th>166</th>\n",
       "      <td>Zambia</td>\n",
       "      <td>1460</td>\n",
       "      <td>83.1</td>\n",
       "      <td>3280</td>\n",
       "      <td>0</td>\n",
       "    </tr>\n",
       "    <tr>\n",
       "      <th>155</th>\n",
       "      <td>Uganda</td>\n",
       "      <td>595</td>\n",
       "      <td>81.0</td>\n",
       "      <td>1540</td>\n",
       "      <td>0</td>\n",
       "    </tr>\n",
       "    <tr>\n",
       "      <th>56</th>\n",
       "      <td>Gambia</td>\n",
       "      <td>562</td>\n",
       "      <td>80.3</td>\n",
       "      <td>1660</td>\n",
       "      <td>0</td>\n",
       "    </tr>\n",
       "    <tr>\n",
       "      <th>84</th>\n",
       "      <td>Lao</td>\n",
       "      <td>1140</td>\n",
       "      <td>78.9</td>\n",
       "      <td>3980</td>\n",
       "      <td>0</td>\n",
       "    </tr>\n",
       "    <tr>\n",
       "      <th>142</th>\n",
       "      <td>Sudan</td>\n",
       "      <td>1480</td>\n",
       "      <td>76.7</td>\n",
       "      <td>3370</td>\n",
       "      <td>0</td>\n",
       "    </tr>\n",
       "    <tr>\n",
       "      <th>59</th>\n",
       "      <td>Ghana</td>\n",
       "      <td>1310</td>\n",
       "      <td>74.7</td>\n",
       "      <td>3060</td>\n",
       "      <td>0</td>\n",
       "    </tr>\n",
       "    <tr>\n",
       "      <th>147</th>\n",
       "      <td>Tanzania</td>\n",
       "      <td>702</td>\n",
       "      <td>71.9</td>\n",
       "      <td>2090</td>\n",
       "      <td>0</td>\n",
       "    </tr>\n",
       "    <tr>\n",
       "      <th>38</th>\n",
       "      <td>Congo, Rep.</td>\n",
       "      <td>2740</td>\n",
       "      <td>63.9</td>\n",
       "      <td>5190</td>\n",
       "      <td>0</td>\n",
       "    </tr>\n",
       "    <tr>\n",
       "      <th>55</th>\n",
       "      <td>Gabon</td>\n",
       "      <td>8750</td>\n",
       "      <td>63.7</td>\n",
       "      <td>15400</td>\n",
       "      <td>0</td>\n",
       "    </tr>\n",
       "    <tr>\n",
       "      <th>126</th>\n",
       "      <td>Rwanda</td>\n",
       "      <td>563</td>\n",
       "      <td>63.6</td>\n",
       "      <td>1350</td>\n",
       "      <td>0</td>\n",
       "    </tr>\n",
       "    <tr>\n",
       "      <th>93</th>\n",
       "      <td>Madagascar</td>\n",
       "      <td>413</td>\n",
       "      <td>62.2</td>\n",
       "      <td>1390</td>\n",
       "      <td>0</td>\n",
       "    </tr>\n",
       "    <tr>\n",
       "      <th>80</th>\n",
       "      <td>Kenya</td>\n",
       "      <td>967</td>\n",
       "      <td>62.2</td>\n",
       "      <td>2480</td>\n",
       "      <td>0</td>\n",
       "    </tr>\n",
       "    <tr>\n",
       "      <th>165</th>\n",
       "      <td>Yemen</td>\n",
       "      <td>1310</td>\n",
       "      <td>56.3</td>\n",
       "      <td>4480</td>\n",
       "      <td>0</td>\n",
       "    </tr>\n",
       "    <tr>\n",
       "      <th>108</th>\n",
       "      <td>Namibia</td>\n",
       "      <td>5190</td>\n",
       "      <td>56.0</td>\n",
       "      <td>8460</td>\n",
       "      <td>0</td>\n",
       "    </tr>\n",
       "    <tr>\n",
       "      <th>50</th>\n",
       "      <td>Eritrea</td>\n",
       "      <td>482</td>\n",
       "      <td>55.2</td>\n",
       "      <td>1420</td>\n",
       "      <td>0</td>\n",
       "    </tr>\n",
       "    <tr>\n",
       "      <th>137</th>\n",
       "      <td>South Africa</td>\n",
       "      <td>7280</td>\n",
       "      <td>53.7</td>\n",
       "      <td>12000</td>\n",
       "      <td>0</td>\n",
       "    </tr>\n",
       "    <tr>\n",
       "      <th>21</th>\n",
       "      <td>Botswana</td>\n",
       "      <td>6350</td>\n",
       "      <td>52.5</td>\n",
       "      <td>13300</td>\n",
       "      <td>0</td>\n",
       "    </tr>\n",
       "    <tr>\n",
       "      <th>72</th>\n",
       "      <td>Iraq</td>\n",
       "      <td>4500</td>\n",
       "      <td>36.9</td>\n",
       "      <td>12700</td>\n",
       "      <td>0</td>\n",
       "    </tr>\n",
       "    <tr>\n",
       "      <th>136</th>\n",
       "      <td>Solomon Islands</td>\n",
       "      <td>1290</td>\n",
       "      <td>28.1</td>\n",
       "      <td>1780</td>\n",
       "      <td>0</td>\n",
       "    </tr>\n",
       "  </tbody>\n",
       "</table>\n",
       "</div>"
      ],
      "text/plain": [
       "               country   gdpp  child_mort  income  cluster_labels\n",
       "3               Angola   3530       119.0    5900               0\n",
       "25        Burkina Faso    575       116.0    1430               0\n",
       "49   Equatorial Guinea  17100       111.0   33700               0\n",
       "63              Guinea    648       109.0    1190               0\n",
       "106         Mozambique    419       101.0     918               0\n",
       "99          Mauritania   1200        97.4    3320               0\n",
       "116           Pakistan   1040        92.1    4280               0\n",
       "94              Malawi    459        90.5    1030               0\n",
       "0          Afghanistan    553        90.2    1610               0\n",
       "88             Liberia    327        89.3     700               0\n",
       "36             Comoros    769        88.2    1410               0\n",
       "166             Zambia   1460        83.1    3280               0\n",
       "155             Uganda    595        81.0    1540               0\n",
       "56              Gambia    562        80.3    1660               0\n",
       "84                 Lao   1140        78.9    3980               0\n",
       "142              Sudan   1480        76.7    3370               0\n",
       "59               Ghana   1310        74.7    3060               0\n",
       "147           Tanzania    702        71.9    2090               0\n",
       "38         Congo, Rep.   2740        63.9    5190               0\n",
       "55               Gabon   8750        63.7   15400               0\n",
       "126             Rwanda    563        63.6    1350               0\n",
       "93          Madagascar    413        62.2    1390               0\n",
       "80               Kenya    967        62.2    2480               0\n",
       "165              Yemen   1310        56.3    4480               0\n",
       "108            Namibia   5190        56.0    8460               0\n",
       "50             Eritrea    482        55.2    1420               0\n",
       "137       South Africa   7280        53.7   12000               0\n",
       "21            Botswana   6350        52.5   13300               0\n",
       "72                Iraq   4500        36.9   12700               0\n",
       "136    Solomon Islands   1290        28.1    1780               0"
      ]
     },
     "execution_count": 209,
     "metadata": {},
     "output_type": "execute_result"
    }
   ],
   "source": [
    "# Sortting the daataframe in descending order with respect to the child_mort\n",
    "df12.sort_values(by='child_mort',ascending = False)"
   ]
  },
  {
   "cell_type": "markdown",
   "metadata": {},
   "source": [
    "- Taking account all the above 3 data frame we get the countries that need most attention are:\n",
    "  - liberia\n",
    "  - Mozambique\n",
    "  - Malawi\n",
    "  - Afghanistan\n",
    "  - Burkina Faso\n",
    "  - Guinea\n",
    "  - Uganda "
   ]
  },
  {
   "cell_type": "code",
   "execution_count": null,
   "metadata": {},
   "outputs": [],
   "source": []
  }
 ],
 "metadata": {
  "kernelspec": {
   "display_name": "Python 3",
   "language": "python",
   "name": "python3"
  },
  "language_info": {
   "codemirror_mode": {
    "name": "ipython",
    "version": 3
   },
   "file_extension": ".py",
   "mimetype": "text/x-python",
   "name": "python",
   "nbconvert_exporter": "python",
   "pygments_lexer": "ipython3",
   "version": "3.7.1"
  }
 },
 "nbformat": 4,
 "nbformat_minor": 2
}
